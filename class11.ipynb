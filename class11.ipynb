{
 "cells": [
  {
   "cell_type": "code",
   "execution_count": 3,
   "id": "b715339f",
   "metadata": {},
   "outputs": [
    {
     "ename": "ZeroDivisionError",
     "evalue": "division by zero",
     "output_type": "error",
     "traceback": [
      "\u001b[31m---------------------------------------------------------------------------\u001b[39m",
      "\u001b[31mZeroDivisionError\u001b[39m                         Traceback (most recent call last)",
      "\u001b[36mCell\u001b[39m\u001b[36m \u001b[39m\u001b[32mIn[3]\u001b[39m\u001b[32m, line 2\u001b[39m\n\u001b[32m      1\u001b[39m \u001b[38;5;66;03m# Runtime errors\u001b[39;00m\n\u001b[32m----> \u001b[39m\u001b[32m2\u001b[39m x = \u001b[32m10\u001b[39m / \u001b[32m0\u001b[39m  \u001b[38;5;66;03m# ZeroDivisionError\u001b[39;00m\n\u001b[32m      3\u001b[39m y = \u001b[38;5;28mint\u001b[39m(\u001b[33m\"\u001b[39m\u001b[33mabc\u001b[39m\u001b[33m\"\u001b[39m)\n",
      "\u001b[31mZeroDivisionError\u001b[39m: division by zero"
     ]
    }
   ],
   "source": [
    "# Runtime errors\n",
    "x = 10 / 0  # ZeroDivisionError\n",
    "y = int(\"abc\")  # ValueError"
   ]
  },
  {
   "cell_type": "code",
   "execution_count": 4,
   "id": "1c8fea6d",
   "metadata": {},
   "outputs": [
    {
     "name": "stdout",
     "output_type": "stream",
     "text": [
      "Result: 2.0\n",
      "No errors occurred.\n",
      "Processing complete.\n"
     ]
    }
   ],
   "source": [
    "# Basic exception handling\n",
    "try:\n",
    "    x = int(input(\"Enter a number: \"))\n",
    "    print(f\"Result: {10 / x}\")\n",
    "except ZeroDivisionError:\n",
    "    print(\"Error: Cannot divide by zero!\")\n",
    "except ValueError:\n",
    "    print(\"Error: Please enter a valid number!\")\n",
    "else:\n",
    "    print(\"No errors occurred.\")\n",
    "finally:\n",
    "    print(\"Processing complete.\")"
   ]
  },
  {
   "cell_type": "code",
   "execution_count": null,
   "id": "4d8e6f28",
   "metadata": {},
   "outputs": [],
   "source": [
    "# Raise exception\n",
    "age = int(input(\"Enter age: \"))\n",
    "if age < 0:\n",
    "    raise ValueError(\"Age cannot be negative!\")"
   ]
  },
  {
   "cell_type": "code",
   "execution_count": null,
   "id": "e472ebb1",
   "metadata": {},
   "outputs": [],
   "source": [
    "# Handle file loading\n",
    "try:\n",
    "    with open(\"data.csv\", \"r\") as file:\n",
    "        data = file.read()\n",
    "except FileNotFoundError:\n",
    "    print(\"Error: File data.csv not found!\")\n",
    "except IOError:\n",
    "    print(\"Error: Cannot read file!\")"
   ]
  },
  {
   "cell_type": "code",
   "execution_count": null,
   "id": "8ccd09dd",
   "metadata": {},
   "outputs": [],
   "source": [
    "# Custom exception\n",
    "class CustomError(Exception):\n",
    "    pass\n",
    "\n",
    "try:\n",
    "    number = int(input(\"Enter positive number: \"))\n",
    "    if number <= 0:\n",
    "        raise CustomError(\"Number must be positive!\")\n",
    "except CustomError as e:\n",
    "    print(f\"Error: {e}\")"
   ]
  },
  {
   "cell_type": "code",
   "execution_count": null,
   "id": "dd400ca3",
   "metadata": {},
   "outputs": [],
   "source": [
    "# Handle division by zero\n",
    "try:\n",
    "    x = int(input(\"Enter number to divide 10: \"))\n",
    "    result = 10 / x\n",
    "except ZeroDivisionError:\n",
    "    print(\"Error: Cannot divide by zero!\")\n",
    "else:\n",
    "    print(f\"Result: {result}\")"
   ]
  },
  {
   "cell_type": "code",
   "execution_count": null,
   "id": "465ebd1b",
   "metadata": {},
   "outputs": [],
   "source": [
    "# Handle multiple exceptions\n",
    "try:\n",
    "    index = int(input(\"Enter index: \"))\n",
    "    numbers = [1, 2, 3]\n",
    "    print(numbers[index])\n",
    "except ValueError:\n",
    "    print(\"Error: Please enter a valid number!\")\n",
    "except IndexError:\n",
    "    print(\"Error: Index out of range!\")"
   ]
  },
  {
   "cell_type": "code",
   "execution_count": null,
   "id": "e5a2a7c5",
   "metadata": {},
   "outputs": [],
   "source": [
    "# Clean up resources\n",
    "try:\n",
    "    file = open(\"data.txt\", \"r\")\n",
    "    content = file.read()\n",
    "    print(f\"Content: {content}\")\n",
    "except FileNotFoundError:\n",
    "    print(\"Error: File not found!\")\n",
    "finally:\n",
    "    try:\n",
    "        file.close()\n",
    "        print(\"File closed.\")\n",
    "    except NameError:\n",
    "        print(\"File not opened.\")"
   ]
  },
  {
   "cell_type": "code",
   "execution_count": null,
   "id": "00aef301",
   "metadata": {},
   "outputs": [],
   "source": [
    "# Division with error handling\n",
    "try:\n",
    "    a = int(input(\"Enter first number: \"))\n",
    "    b = int(input(\"Enter second number: \"))\n",
    "    result = a / b\n",
    "except ZeroDivisionError:\n",
    "    print(\"Error: Cannot divide by zero!\")\n",
    "except ValueError:\n",
    "    print(\"Error: Please enter valid numbers!\")\n",
    "else:\n",
    "    print(f\"Result: {result}\")"
   ]
  },
  {
   "cell_type": "code",
   "execution_count": null,
   "id": "150ae516",
   "metadata": {},
   "outputs": [],
   "source": [
    "# List access with error handling\n",
    "numbers = [10, 20, 30, 40, 50]\n",
    "try:\n",
    "    index = int(input(\"Enter index (0-4): \"))\n",
    "    print(f\"Element: {numbers[index]}\")\n",
    "except ValueError:\n",
    "    print(\"Error: Please enter a valid number!\")\n",
    "except IndexError:\n",
    "    print(\"Error: Index out of range!\")"
   ]
  },
  {
   "cell_type": "code",
   "execution_count": null,
   "id": "b8a1e8b5",
   "metadata": {},
   "outputs": [],
   "source": [
    "# Check valid score\n",
    "try:\n",
    "    score = float(input(\"Enter score (0-10): \"))\n",
    "    if score < 0 or score > 10:\n",
    "        raise ValueError(\"Score must be between 0 and 10!\")\n",
    "    print(f\"Valid score: {score}\")\n",
    "except ValueError as e:\n",
    "    print(f\"Error: {e}\")"
   ]
  },
  {
   "cell_type": "code",
   "execution_count": null,
   "id": "57d8c689",
   "metadata": {},
   "outputs": [],
   "source": [
    "# Calculate list average\n",
    "try:\n",
    "    numbers = [float(x) for x in input(\"Enter numbers (space-separated): \").split()]\n",
    "    average = sum(numbers) / len(numbers)\n",
    "except ValueError:\n",
    "    print(\"Error: Please enter valid numbers!\")\n",
    "except ZeroDivisionError:\n",
    "    print(\"Error: Empty list!\")\n",
    "else:\n",
    "    print(f\"Average: {average}\")"
   ]
  },
  {
   "cell_type": "code",
   "execution_count": null,
   "id": "a83ce195",
   "metadata": {},
   "outputs": [],
   "source": [
    "# Dictionary access with error handling\n",
    "student = {\"name\": \"Alice\", \"age\": 20, \"grade\": 8.5}\n",
    "try:\n",
    "    key = input(\"Enter key (name, age, grade): \")\n",
    "    print(f\"Value: {student[key]}\")\n",
    "except KeyError:\n",
    "    print(\"Error: Key not found!\")"
   ]
  },
  {
   "cell_type": "code",
   "execution_count": null,
   "id": "54b75d88",
   "metadata": {},
   "outputs": [],
   "source": [
    "# File reading with error handling\n",
    "try:\n",
    "    filename = input(\"Enter filename: \")\n",
    "    with open(filename, \"r\") as file:\n",
    "        content = file.read()\n",
    "    print(f\"Content: {content}\")\n",
    "except FileNotFoundError:\n",
    "    print(\"Error: File not found!\")\n",
    "except IOError:\n",
    "    print(\"Error: Cannot read file!\")"
   ]
  },
  {
   "cell_type": "code",
   "execution_count": null,
   "id": "2b407431",
   "metadata": {},
   "outputs": [],
   "source": [
    "# AI data loading with error handling\n",
    "import os\n",
    "\n",
    "class DataLoadError(Exception):\n",
    "    pass\n",
    "\n",
    "try:\n",
    "    filepath = input(\"Enter file path: \")\n",
    "    min_size_mb = float(input(\"Enter minimum size (MB): \"))\n",
    "    if not os.path.exists(filepath):\n",
    "        raise DataLoadError(\"File does not exist!\")\n",
    "    size_mb = os.path.getsize(filepath) / (1024 * 1024)\n",
    "    if size_mb < min_size_mb:\n",
    "        raise DataLoadError(f\"File size ({size_mb:.2f}MB) is smaller than required ({min_size_mb}MB)!\")\n",
    "    print(f\"Valid file: {filepath} ({size_mb:.2f}MB)\")\n",
    "except DataLoadError as e:\n",
    "    print(f\"Error: {e}\")\n",
    "except ValueError:\n",
    "    print(\"Error: Please enter a valid number!\")"
   ]
  }
 ],
 "metadata": {
  "kernelspec": {
   "display_name": "machine_learning_advanced",
   "language": "python",
   "name": "python3"
  },
  "language_info": {
   "codemirror_mode": {
    "name": "ipython",
    "version": 3
   },
   "file_extension": ".py",
   "mimetype": "text/x-python",
   "name": "python",
   "nbconvert_exporter": "python",
   "pygments_lexer": "ipython3",
   "version": "3.11.13"
  }
 },
 "nbformat": 4,
 "nbformat_minor": 5
}
