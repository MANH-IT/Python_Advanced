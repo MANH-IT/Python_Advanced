{
 "cells": [
  {
   "cell_type": "code",
   "execution_count": 1,
   "id": "e12c68c8",
   "metadata": {},
   "outputs": [
    {
     "name": "stdout",
     "output_type": "stream",
     "text": [
      "Young student\n"
     ]
    }
   ],
   "source": [
    "# Nested if example\n",
    "age = 20\n",
    "is_student = True\n",
    "if age < 25:\n",
    "    if is_student:\n",
    "        print(\"Young student\")\n",
    "    else:\n",
    "        print(\"Young but not a student\")\n",
    "else:\n",
    "        print(\"Not young\")"
   ]
  },
  {
   "cell_type": "code",
   "execution_count": 2,
   "id": "fcdb49d7",
   "metadata": {},
   "outputs": [
    {
     "name": "stdout",
     "output_type": "stream",
     "text": [
      "Positive number\n"
     ]
    }
   ],
   "source": [
    "# Handle invalid input\n",
    "try:\n",
    "    number = int(input(\"Enter a number: \"))\n",
    "    if number > 0:\n",
    "        print(\"Positive number\")\n",
    "    else:\n",
    "        print(\"Non-positive number\")\n",
    "except ValueError:\n",
    "    print(\"Please enter a valid number!\")"
   ]
  },
  {
   "cell_type": "code",
   "execution_count": null,
   "id": "4f0ceb7b",
   "metadata": {},
   "outputs": [],
   "source": [
    "# Check if a number is positive\n",
    "number = int(input(\"Enter a number: \"))\n",
    "if number > 0:\n",
    "    print(f\"{number} is positive\")\n",
    "    "
   ]
  },
  {
   "cell_type": "code",
   "execution_count": null,
   "id": "1cbccdab",
   "metadata": {},
   "outputs": [],
   "source": [
    "# Check if a number is even or odd\n",
    "number = int(input(\"Enter a number: \"))\n",
    "if number % 2 == 0:\n",
    "    print(f\"{number} is even\")\n",
    "else:\n",
    "    print(f\"{number} is odd\")"
   ]
  },
  {
   "cell_type": "code",
   "execution_count": null,
   "id": "9d1bac4c",
   "metadata": {},
   "outputs": [],
   "source": [
    "# Grade classification\n",
    "score = float(input(\"Enter score (0-10): \"))\n",
    "if score >= 9:\n",
    "    print(\"Excellent\")\n",
    "elif score >= 8:\n",
    "    print(\"Good\")\n",
    "elif score >= 6.5:\n",
    "    print(\"Fair\")\n",
    "elif score >= 5:\n",
    "    print(\"Average\")\n",
    "else:\n",
    "    print(\"Poor\")"
   ]
  },
  {
   "cell_type": "code",
   "execution_count": 3,
   "id": "93cf3a31",
   "metadata": {},
   "outputs": [
    {
     "name": "stdout",
     "output_type": "stream",
     "text": [
      "Taxi fare: 54000.0 VND\n"
     ]
    }
   ],
   "source": [
    "# Calculate taxi fare\n",
    "km = float(input(\"Enter distance (km): \"))\n",
    "if km <= 1:\n",
    "    cost = 15000\n",
    "elif km <= 5:\n",
    "    cost = 15000 + (km - 1) * 13000\n",
    "else:\n",
    "    cost = 15000 + 4 * 13000 + (km - 5) * 11000\n",
    "print(f\"Taxi fare: {cost} VND\")"
   ]
  },
  {
   "cell_type": "code",
   "execution_count": null,
   "id": "a6a0f98a",
   "metadata": {},
   "outputs": [],
   "source": [
    "# Grade classification\n",
    "score = float(input(\"Enter score (0-10): \"))\n",
    "if score >= 9:\n",
    "    print(\"Excellent\")\n",
    "elif score >= 8:\n",
    "    print(\"Good\")\n",
    "elif score >= 6.5:\n",
    "    print(\"Fair\")\n",
    "elif score >= 5:\n",
    "    print(\"Average\")\n",
    "else:\n",
    "    print(\"Poor\")"
   ]
  },
  {
   "cell_type": "code",
   "execution_count": null,
   "id": "5ec26d6d",
   "metadata": {},
   "outputs": [],
   "source": [
    "# Check leap year\n",
    "year = int(input(\"Enter year: \"))\n",
    "is_leap = (year % 4 == 0 and year % 100 != 0) or (year % 400 == 0)\n",
    "print(f\"{year} {'is a leap year' if is_leap else 'is not a leap year'}\")"
   ]
  },
  {
   "cell_type": "code",
   "execution_count": null,
   "id": "ed143eb3",
   "metadata": {},
   "outputs": [],
   "source": [
    "# Classify student\n",
    "score = float(input(\"Enter average score (0-10): \"))\n",
    "conduct = input(\"Enter conduct (Good/Fair/Average): \")\n",
    "if score >= 8 and conduct == \"Good\":\n",
    "    print(\"Excellent\")\n",
    "elif score >= 8 and conduct == \"Fair\":\n",
    "    print(\"Good\")\n",
    "elif score >= 6.5:\n",
    "    print(\"Fair\")\n",
    "elif score >= 5:\n",
    "    print(\"Average\")\n",
    "else:\n",
    "    print(\"Poor\")"
   ]
  },
  {
   "cell_type": "code",
   "execution_count": null,
   "id": "7e26c57b",
   "metadata": {},
   "outputs": [],
   "source": [
    "# Calculate electricity bill\n",
    "kwh = float(input(\"Enter electricity usage (kWh): \"))\n",
    "if kwh <= 50:\n",
    "    cost = kwh * 1678\n",
    "elif kwh <= 100:\n",
    "    cost = 50 * 1678 + (kwh - 50) * 1734\n",
    "elif kwh <= 200:\n",
    "    cost = 50 * 1678 + 50 * 1734 + (kwh - 100) * 2014\n",
    "else:\n",
    "    cost = 50 * 1678 + 50 * 1734 + 100 * 2014 + (kwh - 200) * 2927\n",
    "print(f\"Electricity bill: {round(cost)} VND\")"
   ]
  },
  {
   "cell_type": "code",
   "execution_count": null,
   "id": "91386f86",
   "metadata": {},
   "outputs": [],
   "source": [
    "# Check and classify triangle\n",
    "a = float(input(\"Enter side a: \"))\n",
    "b = float(input(\"Enter side b: \"))\n",
    "c = float(input(\"Enter side c: \"))\n",
    "if a + b > c and b + c > a and a + c > b:\n",
    "    print(\"Valid triangle\")\n",
    "    if a == b == c:\n",
    "        print(\"Type: Equilateral\")\n",
    "    elif a == b or b == c or a == c:\n",
    "        print(\"Type: Isosceles\")\n",
    "    else:\n",
    "        print(\"Type: Scalene\")\n",
    "else:\n",
    "    print(\"Invalid triangle\")"
   ]
  }
 ],
 "metadata": {
  "kernelspec": {
   "display_name": "machine_learning_advanced",
   "language": "python",
   "name": "python3"
  },
  "language_info": {
   "codemirror_mode": {
    "name": "ipython",
    "version": 3
   },
   "file_extension": ".py",
   "mimetype": "text/x-python",
   "name": "python",
   "nbconvert_exporter": "python",
   "pygments_lexer": "ipython3",
   "version": "3.11.13"
  }
 },
 "nbformat": 4,
 "nbformat_minor": 5
}
