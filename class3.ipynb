{
 "cells": [
  {
   "cell_type": "code",
   "execution_count": null,
   "id": "e12c68c8",
   "metadata": {},
   "outputs": [],
   "source": [
    "# Nested if example\n",
    "age = 20\n",
    "is_student = True\n",
    "if age < 25:\n",
    "    if is_student:\n",
    "        print(\"Young student\")\n",
    "    else:\n",
    "        print(\"Young but not a student\")\n",
    "else:\n",
    "        print(\"Not young\")"
   ]
  }
 ],
 "metadata": {
  "kernelspec": {
   "display_name": "machine_learning_advanced",
   "language": "python",
   "name": "python3"
  },
  "language_info": {
   "name": "python",
   "version": "3.9.23"
  }
 },
 "nbformat": 4,
 "nbformat_minor": 5
}
