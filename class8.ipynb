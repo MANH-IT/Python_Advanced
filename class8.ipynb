{
 "cells": [
  {
   "cell_type": "code",
   "execution_count": 1,
   "id": "876c99ca",
   "metadata": {},
   "outputs": [
    {
     "name": "stdout",
     "output_type": "stream",
     "text": [
      "{1, 2, 3}\n"
     ]
    }
   ],
   "source": [
    "# Create sets\n",
    "fruits = {\"apple\", \"banana\", \"orange\"}\n",
    "numbers = set([1, 2, 3, 3])  # {1, 2, 3}\n",
    "print(numbers)"
   ]
  },
  {
   "cell_type": "code",
   "execution_count": 2,
   "id": "49e49d65",
   "metadata": {},
   "outputs": [
    {
     "name": "stdout",
     "output_type": "stream",
     "text": [
      "{'strawberry', 'apple', 'orange', 'mango', 'banana'}\n"
     ]
    }
   ],
   "source": [
    "# Add elements\n",
    "fruits = {\"apple\", \"banana\"}\n",
    "fruits.add(\"orange\")\n",
    "fruits.update([\"strawberry\", \"mango\"])\n",
    "print(fruits)"
   ]
  },
  {
   "cell_type": "code",
   "execution_count": 3,
   "id": "6e5901c5",
   "metadata": {},
   "outputs": [
    {
     "name": "stdout",
     "output_type": "stream",
     "text": [
      "set()\n"
     ]
    }
   ],
   "source": [
    "# Remove elements\n",
    "fruits = {\"apple\", \"banana\", \"orange\"}\n",
    "fruits.remove(\"banana\")  # {\"apple\", \"orange\"}\n",
    "fruits.discard(\"mango\")  # No error\n",
    "popped = fruits.pop()  # Random element\n",
    "fruits.clear()  # {}\n",
    "print(fruits)"
   ]
  },
  {
   "cell_type": "code",
   "execution_count": 4,
   "id": "805dcf4c",
   "metadata": {},
   "outputs": [
    {
     "name": "stdout",
     "output_type": "stream",
     "text": [
      "{1, 2, 3, 4}\n",
      "{2, 3}\n",
      "{1}\n",
      "{1, 4}\n"
     ]
    }
   ],
   "source": [
    "# Set operations\n",
    "set1 = {1, 2, 3}\n",
    "set2 = {2, 3, 4}\n",
    "print(set1 | set2)  # {1, 2, 3, 4}\n",
    "print(set1 & set2)  # {2, 3}\n",
    "print(set1 - set2)  # {1}\n",
    "print(set1 ^ set2)  # {1, 4}"
   ]
  },
  {
   "cell_type": "code",
   "execution_count": 5,
   "id": "dce576ea",
   "metadata": {},
   "outputs": [
    {
     "name": "stdout",
     "output_type": "stream",
     "text": [
      "3\n",
      "True\n",
      "True\n",
      "True\n",
      "True\n"
     ]
    }
   ],
   "source": [
    "# Set methods\n",
    "numbers = {1, 2, 3}\n",
    "print(len(numbers))  # 3\n",
    "print(2 in numbers)  # True\n",
    "print({1, 2}.issubset(numbers))  # True\n",
    "print(numbers.issuperset({1, 2}))  # True\n",
    "print(numbers.isdisjoint({4, 5}))  # True"
   ]
  },
  {
   "cell_type": "code",
   "execution_count": 6,
   "id": "9b40cff8",
   "metadata": {},
   "outputs": [
    {
     "name": "stdout",
     "output_type": "stream",
     "text": [
      "Element not found in set!\n"
     ]
    }
   ],
   "source": [
    "# Handle KeyError\n",
    "try:\n",
    "    numbers = {1, 2, 3}\n",
    "    numbers.remove(4)\n",
    "except KeyError:\n",
    "    print(\"Element not found in set!\")"
   ]
  },
  {
   "cell_type": "code",
   "execution_count": 7,
   "id": "9e95def9",
   "metadata": {},
   "outputs": [
    {
     "name": "stdout",
     "output_type": "stream",
     "text": [
      "{'strawberry', 'orange', 'apple', 'banana'}\n"
     ]
    }
   ],
   "source": [
    "# Create and add elements\n",
    "fruits = {\"apple\", \"banana\"}\n",
    "fruits.add(\"orange\")\n",
    "fruits.update([\"strawberry\", \"apple\"])\n",
    "print(fruits)"
   ]
  },
  {
   "cell_type": "code",
   "execution_count": 8,
   "id": "3f4756db",
   "metadata": {},
   "outputs": [
    {
     "name": "stdout",
     "output_type": "stream",
     "text": [
      "Union: {'strawberry', 'apple', 'orange', 'mango', 'banana'}\n",
      "Intersection: {'banana'}\n"
     ]
    }
   ],
   "source": [
    "# Union and intersection\n",
    "set1 = {\"apple\", \"banana\", \"orange\"}\n",
    "set2 = {\"banana\", \"strawberry\", \"mango\"}\n",
    "print(f\"Union: {set1 | set2}\")\n",
    "print(f\"Intersection: {set1 & set2}\")"
   ]
  },
  {
   "cell_type": "code",
   "execution_count": 9,
   "id": "eb1f7550",
   "metadata": {},
   "outputs": [
    {
     "name": "stdout",
     "output_type": "stream",
     "text": [
      "Apple in set: True\n",
      "Number of elements: 3\n"
     ]
    }
   ],
   "source": [
    "# Check and count\n",
    "fruits = {\"apple\", \"banana\", \"orange\"}\n",
    "print(f\"Apple in set: {'apple' in fruits}\")\n",
    "print(f\"Number of elements: {len(fruits)}\")"
   ]
  },
  {
   "cell_type": "code",
   "execution_count": 10,
   "id": "4b4bc5a0",
   "metadata": {},
   "outputs": [
    {
     "name": "stdout",
     "output_type": "stream",
     "text": [
      "Fruit set: {'strawberry', 'orange', 'apple', 'banana'}\n",
      "Number of elements: 4\n"
     ]
    }
   ],
   "source": [
    "# Create and print set\n",
    "fruits = {\"apple\", \"banana\", \"orange\", \"strawberry\"}\n",
    "print(f\"Fruit set: {fruits}\")\n",
    "print(f\"Number of elements: {len(fruits)}\")"
   ]
  },
  {
   "cell_type": "code",
   "execution_count": 11,
   "id": "6a0ffa38",
   "metadata": {},
   "outputs": [
    {
     "name": "stdout",
     "output_type": "stream",
     "text": [
      "Modified set: {1, 3, 4}\n"
     ]
    }
   ],
   "source": [
    "# Add and remove elements\n",
    "numbers = {1, 2, 3}\n",
    "numbers.add(4)\n",
    "numbers.remove(2)\n",
    "print(f\"Modified set: {numbers}\")"
   ]
  },
  {
   "cell_type": "code",
   "execution_count": 12,
   "id": "bf566aa5",
   "metadata": {},
   "outputs": [
    {
     "name": "stdout",
     "output_type": "stream",
     "text": [
      "Common elements: set()\n"
     ]
    }
   ],
   "source": [
    "# Find common elements\n",
    "try:\n",
    "    list1 = input(\"Enter first number list (space-separated): \").split()\n",
    "    list2 = input(\"Enter second number list (space-separated): \").split()\n",
    "    set1 = set(list1)\n",
    "    set2 = set(list2)\n",
    "    common = set1 & set2\n",
    "    print(f\"Common elements: {common}\")\n",
    "except ValueError:\n",
    "    print(\"Please enter valid data!\")"
   ]
  },
  {
   "cell_type": "code",
   "execution_count": 13,
   "id": "bea414b2",
   "metadata": {},
   "outputs": [
    {
     "name": "stdout",
     "output_type": "stream",
     "text": [
      "Unique numbers: {'8'}\n",
      "Number of elements: 1\n"
     ]
    }
   ],
   "source": [
    "# Remove duplicates\n",
    "try:\n",
    "    numbers = input(\"Enter number list (space-separated): \").split()\n",
    "    unique_numbers = set(numbers)\n",
    "    print(f\"Unique numbers: {unique_numbers}\")\n",
    "    print(f\"Number of elements: {len(unique_numbers)}\")\n",
    "except ValueError:\n",
    "    print(\"Please enter valid data!\")"
   ]
  },
  {
   "cell_type": "code",
   "execution_count": 14,
   "id": "2c4f3340",
   "metadata": {},
   "outputs": [
    {
     "name": "stdout",
     "output_type": "stream",
     "text": [
      "Symmetric difference: {'7', '4'}\n"
     ]
    }
   ],
   "source": [
    "# Symmetric difference\n",
    "try:\n",
    "    list1 = input(\"Enter first number list (space-separated): \").split()\n",
    "    list2 = input(\"Enter second number list (space-separated): \").split()\n",
    "    set1 = set(list1)\n",
    "    set2 = set(list2)\n",
    "    symmetric_diff = set1 ^ set2\n",
    "    print(f\"Symmetric difference: {symmetric_diff}\")\n",
    "except ValueError:\n",
    "    print(\"Please enter valid data!\")"
   ]
  },
  {
   "cell_type": "code",
   "execution_count": 15,
   "id": "c5ef70c0",
   "metadata": {},
   "outputs": [
    {
     "name": "stdout",
     "output_type": "stream",
     "text": [
      "Second list is subset of first: False\n"
     ]
    }
   ],
   "source": [
    "# Check subset\n",
    "try:\n",
    "    list1 = input(\"Enter first number list (space-separated): \").split()\n",
    "    list2 = input(\"Enter second number list (space-separated): \").split()\n",
    "    set1 = set(list1)\n",
    "    set2 = set(list2)\n",
    "    is_subset = set2.issubset(set1)\n",
    "    print(f\"Second list is subset of first: {is_subset}\")\n",
    "except ValueError:\n",
    "    print(\"Please enter valid data!\")"
   ]
  },
  {
   "cell_type": "code",
   "execution_count": 16,
   "id": "5581cc93",
   "metadata": {},
   "outputs": [
    {
     "name": "stdout",
     "output_type": "stream",
     "text": [
      "Unique words: {'8'}\n",
      "Number of unique words: 1\n"
     ]
    }
   ],
   "source": [
    "# Remove duplicate words\n",
    "text = input(\"Enter text: \")\n",
    "words = text.split()\n",
    "unique_words = set(words)\n",
    "print(f\"Unique words: {unique_words}\")\n",
    "print(f\"Number of unique words: {len(unique_words)}\")"
   ]
  },
  {
   "cell_type": "code",
   "execution_count": 17,
   "id": "db57efad",
   "metadata": {},
   "outputs": [
    {
     "name": "stdout",
     "output_type": "stream",
     "text": [
      "Unique features: {'7', '8'}\n"
     ]
    }
   ],
   "source": [
    "# Find unique features\n",
    "try:\n",
    "    features1 = input(\"Enter first feature list (space-separated): \").split()\n",
    "    features2 = input(\"Enter second feature list (space-separated): \").split()\n",
    "    set1 = set(features1)\n",
    "    set2 = set(features2)\n",
    "    unique_features = set1 ^ set2\n",
    "    print(f\"Unique features: {unique_features}\")\n",
    "except ValueError:\n",
    "    print(\"Please enter valid data!\")"
   ]
  },
  {
   "cell_type": "code",
   "execution_count": null,
   "id": "1c58eb59",
   "metadata": {},
   "outputs": [
    {
     "data": {
      "text/plain": [
       "9"
      ]
     },
     "execution_count": 18,
     "metadata": {},
     "output_type": "execute_result"
    }
   ],
   "source": []
  }
 ],
 "metadata": {
  "kernelspec": {
   "display_name": "machine_learning_advanced",
   "language": "python",
   "name": "python3"
  },
  "language_info": {
   "codemirror_mode": {
    "name": "ipython",
    "version": 3
   },
   "file_extension": ".py",
   "mimetype": "text/x-python",
   "name": "python",
   "nbconvert_exporter": "python",
   "pygments_lexer": "ipython3",
   "version": "3.11.13"
  }
 },
 "nbformat": 4,
 "nbformat_minor": 5
}
