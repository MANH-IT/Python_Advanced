{
 "cells": [
  {
   "cell_type": "code",
   "execution_count": 1,
   "id": "7560ba12",
   "metadata": {},
   "outputs": [],
   "source": [
    "import pandas as pd\n",
    "import numpy as np"
   ]
  },
  {
   "cell_type": "code",
   "execution_count": 2,
   "id": "aae53ca8",
   "metadata": {},
   "outputs": [
    {
     "name": "stdout",
     "output_type": "stream",
     "text": [
      "An      8.5\n",
      "Binh    7.0\n",
      "Lan     9.0\n",
      "dtype: float64\n"
     ]
    }
   ],
   "source": [
    "# Create Series\n",
    "scores = pd.Series([8.5, 7.0, 9.0], index=['An', 'Binh', 'Lan'])\n",
    "print(scores)"
   ]
  },
  {
   "cell_type": "code",
   "execution_count": null,
   "id": "47093856",
   "metadata": {},
   "outputs": [],
   "source": [
    "# Access Series\n",
    "print(scores['An'])  # 8.5\n",
    "print(scores[0])  # 8.5\n",
    "print(scores['Binh':'Lan'])  # Binh    7.0\n",
    "                            # Lan     9.0"
   ]
  },
  {
   "cell_type": "code",
   "execution_count": null,
   "id": "e54c47cd",
   "metadata": {},
   "outputs": [],
   "source": [
    "# Create DataFrame\n",
    "data = {'name': ['An', 'Binh', 'Lan'], 'age': [20, 22, 21], 'score': [8.5, 7.0, 9.0]}\n",
    "df = pd.DataFrame(data)\n",
    "print(df)"
   ]
  },
  {
   "cell_type": "code",
   "execution_count": null,
   "id": "d9367919",
   "metadata": {},
   "outputs": [],
   "source": [
    "# Filter data\n",
    "high_score = df[df['score'] > 8]\n",
    "print(high_score)"
   ]
  },
  {
   "cell_type": "code",
   "execution_count": null,
   "id": "2e440fa9",
   "metadata": {},
   "outputs": [],
   "source": [
    "# Add column\n",
    "df['pass'] = df['score'] >= 7\n",
    "print(df)"
   ]
  },
  {
   "cell_type": "code",
   "execution_count": null,
   "id": "c9afb1ba",
   "metadata": {},
   "outputs": [],
   "source": [
    "# Statistics\n",
    "print(df['score'].mean())  # 8.166..."
   ]
  },
  {
   "cell_type": "code",
   "execution_count": null,
   "id": "1730a260",
   "metadata": {},
   "outputs": [],
   "source": [
    "# Sort DataFrame\n",
    "sorted_df = df.sort_values('score', ascending=False)\n",
    "print(sorted_df)"
   ]
  },
  {
   "cell_type": "code",
   "execution_count": null,
   "id": "fcc33ec8",
   "metadata": {},
   "outputs": [],
   "source": [
    "# Clean data\n",
    "data = {'name': ['An', 'Binh', None], 'score': [8.5, None, 9.0]}\n",
    "df = pd.DataFrame(data)\n",
    "df = df.dropna()\n",
    "print(df)"
   ]
  },
  {
   "cell_type": "code",
   "execution_count": null,
   "id": "290cafdb",
   "metadata": {},
   "outputs": [],
   "source": [
    "# Create and access Series\n",
    "import pandas as pd\n",
    "scores = pd.Series([8.5, 7.0, 9.0], index=['An', 'Binh', 'Lan'])\n",
    "print(f\"Scores:\\n{scores}\")\n",
    "print(f\"An's score: {scores['An']}\")\n",
    "print(f\"Scores from Binh to Lan:\\n{scores['Binh':'Lan']}\")"
   ]
  },
  {
   "cell_type": "code",
   "execution_count": null,
   "id": "2a5ae1c2",
   "metadata": {},
   "outputs": [],
   "source": [
    "# Create and access DataFrame\n",
    "import pandas as pd\n",
    "data = {'name': ['An', 'Binh', 'Lan'], 'age': [20, 22, 21], 'score': [8.5, 7.0, 9.0]}\n",
    "df = pd.DataFrame(data)\n",
    "print(f\"DataFrame:\\n{df}\")\n",
    "print(f\"\\nName column:\\n{df['name']}\")\n",
    "print(f\"\\nFirst row:\\n{df.iloc[0]}\")"
   ]
  },
  {
   "cell_type": "code",
   "execution_count": null,
   "id": "0f5e914c",
   "metadata": {},
   "outputs": [],
   "source": [
    "# Handle missing data\n",
    "import pandas as pd\n",
    "data = {'name': ['An', 'Binh', None], 'score': [8.5, None, 9.0]}\n",
    "df = pd.DataFrame(data)\n",
    "df['score'] = df['score'].fillna(df['score'].mean())\n",
    "df['name'] = df['name'].fillna('Unknown')\n",
    "print(f\"DataFrame after filling NaN:\\n{df}\")"
   ]
  },
  {
   "cell_type": "code",
   "execution_count": null,
   "id": "7e09384b",
   "metadata": {},
   "outputs": [],
   "source": [
    "# Create and print Series\n",
    "import pandas as pd\n",
    "scores = pd.Series({'An': 8.5, 'Binh': 7.0, 'Lan': 9.0})\n",
    "print(f\"Scores:\\n{scores}\")\n",
    "print(f\"Average score: {scores.mean()}\")"
   ]
  },
  {
   "cell_type": "code",
   "execution_count": null,
   "id": "f04a52ca",
   "metadata": {},
   "outputs": [],
   "source": [
    "# Create DataFrame\n",
    "import pandas as pd\n",
    "data = {'name': ['An', 'Binh', 'Lan'], 'age': [20, 22, 21], 'score': [8.5, 7.0, 9.0]}\n",
    "df = pd.DataFrame(data)\n",
    "print(f\"DataFrame:\\n{df}\")\n",
    "print(f\"\\nName column:\\n{df['name']}\")"
   ]
  },
  {
   "cell_type": "code",
   "execution_count": null,
   "id": "81b07834",
   "metadata": {},
   "outputs": [],
   "source": [
    "# Filter passing students\n",
    "import pandas as pd\n",
    "data = {'name': ['An', 'Binh', 'Lan', 'Cuong'], 'score': [8.5, 6.5, 9.0, 7.5]}\n",
    "df = pd.DataFrame(data)\n",
    "passed = df[df['score'] >= 7]\n",
    "print(f\"Passing students:\\n{passed}\")"
   ]
  },
  {
   "cell_type": "code",
   "execution_count": null,
   "id": "01c502dd",
   "metadata": {},
   "outputs": [],
   "source": [
    "# Filter passing students\n",
    "import pandas as pd\n",
    "data = {'name': ['An', 'Binh', 'Lan', 'Cuong'], 'score': [8.5, 6.5, 9.0, 7.5]}\n",
    "df = pd.DataFrame(data)\n",
    "passed = df[df['score'] >= 7]\n",
    "print(f\"Passing students:\\n{passed}\")"
   ]
  },
  {
   "cell_type": "code",
   "execution_count": null,
   "id": "82c404be",
   "metadata": {},
   "outputs": [],
   "source": [
    "# Sort by score\n",
    "import pandas as pd\n",
    "data = {'name': ['An', 'Binh', 'Lan', 'Cuong'], 'score': [8.5, 6.5, 9.0, 7.5]}\n",
    "df = pd.DataFrame(data)\n",
    "sorted_df = df.sort_values('score', ascending=False)\n",
    "print(f\"DataFrame sorted by score:\\n{sorted_df}\")"
   ]
  },
  {
   "cell_type": "code",
   "execution_count": null,
   "id": "e524e545",
   "metadata": {},
   "outputs": [],
   "source": [
    "# Handle missing data\n",
    "import pandas as pd\n",
    "data = {'name': ['An', 'Binh', None, 'Lan'], 'score': [8.5, None, 7.5, 9.0]}\n",
    "df = pd.DataFrame(data)\n",
    "df['score'] = df['score'].fillna(df['score'].mean())\n",
    "df['name'] = df['name'].fillna('Unknown')\n",
    "print(f\"DataFrame after handling NaN:\\n{df}\")"
   ]
  },
  {
   "cell_type": "code",
   "execution_count": null,
   "id": "1b3f3e81",
   "metadata": {},
   "outputs": [],
   "source": [
    "# Analyze CSV\n",
    "import pandas as pd\n",
    "try:\n",
    "    df = pd.read_csv('students.csv')\n",
    "    mean_score = df['score'].mean()\n",
    "    above_average = df[df['score'] > mean_score]\n",
    "    above_average.to_csv('above_average.csv', index=False)\n",
    "    print(f\"Average score: {mean_score}\")\n",
    "    print(f\"Students above average:\\n{above_average}\")\n",
    "except FileNotFoundError:\n",
    "    print(\"Error: File not found!\")\n",
    "except KeyError:\n",
    "    print(\"Error: File does not contain 'score' column!\")"
   ]
  },
  {
   "cell_type": "code",
   "execution_count": null,
   "id": "af827378",
   "metadata": {},
   "outputs": [],
   "source": [
    "# Normalize scores\n",
    "import pandas as pd\n",
    "import numpy as np\n",
    "data = {'name': ['An', 'Binh', 'Lan', 'Cuong'], 'score': [8.5, 6.5, 9.0, 7.5]}\n",
    "df = pd.DataFrame(data)\n",
    "df['normalized_score'] = (df['score'] - df['score'].mean()) / df['score'].std()\n",
    "print(f\"DataFrame with normalized scores:\\n{df}\")"
   ]
  }
 ],
 "metadata": {
  "kernelspec": {
   "display_name": "machine_learning_advanced",
   "language": "python",
   "name": "python3"
  },
  "language_info": {
   "codemirror_mode": {
    "name": "ipython",
    "version": 3
   },
   "file_extension": ".py",
   "mimetype": "text/x-python",
   "name": "python",
   "nbconvert_exporter": "python",
   "pygments_lexer": "ipython3",
   "version": "3.11.13"
  }
 },
 "nbformat": 4,
 "nbformat_minor": 5
}
