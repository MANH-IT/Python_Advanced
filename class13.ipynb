{
 "cells": [
  {
   "cell_type": "code",
   "execution_count": 1,
   "id": "4edb9ddd",
   "metadata": {},
   "outputs": [],
   "source": [
    "import numpy as np"
   ]
  },
  {
   "cell_type": "code",
   "execution_count": null,
   "id": "5f1d8f81",
   "metadata": {},
   "outputs": [],
   "source": [
    "# Create arrays\n",
    "array = np.array([1, 2, 3])  # 1D array\n",
    "matrix = np.array([[1, 2], [3, 4]])  # 2D array"
   ]
  },
  {
   "cell_type": "code",
   "execution_count": null,
   "id": "a26b628d",
   "metadata": {},
   "outputs": [],
   "source": [
    "# Special arrays\n",
    "zeros = np.zeros((2, 3))  # 2x3 zeros\n",
    "ones = np.ones((2, 2))  # 2x2 ones\n",
    "range_array = np.arange(0, 10, 2)  # [0, 2, 4, 6, 8]\n",
    "linspace_array = np.linspace(0, 1, 5)  # [0., 0.25, 0.5, 0.75, 1.]"
   ]
  },
  {
   "cell_type": "code",
   "execution_count": null,
   "id": "54fef2d2",
   "metadata": {},
   "outputs": [],
   "source": [
    "# Access array\n",
    "array = np.array([10, 20, 30, 40])\n",
    "print(array[0])  # 10\n",
    "print(array[1:3])  # [20, 30]\n",
    "matrix = np.array([[1, 2], [3, 4]])\n",
    "print(matrix[0, 1])  # 2"
   ]
  },
  {
   "cell_type": "code",
   "execution_count": null,
   "id": "0f635f91",
   "metadata": {},
   "outputs": [],
   "source": [
    "# Slice array\n",
    "matrix = np.array([[1, 2, 3], [4, 5, 6]])\n",
    "print(matrix[0, :])  # [1, 2, 3] (first row)\n",
    "print(matrix[:, 1])  # [2, 5] (second column)"
   ]
  },
  {
   "cell_type": "code",
   "execution_count": null,
   "id": "0e6805d2",
   "metadata": {},
   "outputs": [],
   "source": [
    "# Basic operations\n",
    "array1 = np.array([1, 2, 3])\n",
    "array2 = np.array([4, 5, 6])\n",
    "print(array1 + array2)  # [5, 7, 9]\n",
    "print(array1 * 2)  # [2, 4, 6]"
   ]
  },
  {
   "cell_type": "code",
   "execution_count": null,
   "id": "a65db5d9",
   "metadata": {},
   "outputs": [],
   "source": [
    "# Matrix operations\n",
    "matrix1 = np.array([[1, 2], [3, 4]])\n",
    "matrix2 = np.array([[5, 6], [7, 8]])\n",
    "print(np.dot(matrix1, matrix2))  # [[19, 22], [43, 50]]"
   ]
  },
  {
   "cell_type": "code",
   "execution_count": null,
   "id": "b5edd1ab",
   "metadata": {},
   "outputs": [],
   "source": [
    "# Array properties\n",
    "matrix = np.array([[1, 2], [3, 4]])\n",
    "print(matrix.shape)  # (2, 2)\n",
    "print(matrix.size)  # 4\n",
    "print(matrix.dtype)  # int64"
   ]
  },
  {
   "cell_type": "code",
   "execution_count": null,
   "id": "069a6b27",
   "metadata": {},
   "outputs": [],
   "source": [
    "# Normalize data\n",
    "data = np.array([1, 2, 3, 4, 5])\n",
    "normalized = (data - np.mean(data)) / np.std(data)\n",
    "print(normalized)  # [-1.414, -0.707, 0., 0.707, 1.414]"
   ]
  },
  {
   "cell_type": "code",
   "execution_count": null,
   "id": "fd55f7d7",
   "metadata": {},
   "outputs": [],
   "source": [
    "# Create and access array\n",
    "import numpy as np\n",
    "array = np.array([10, 20, 30, 40])\n",
    "print(f\"First element: {array[0]}\")\n",
    "print(f\"Slice: {array[1:3]}\")\n",
    "matrix = np.array([[1, 2, 3], [4, 5, 6]])\n",
    "print(f\"Element [0,1]: {matrix[0, 1]}\")"
   ]
  },
  {
   "cell_type": "code",
   "execution_count": null,
   "id": "dc31e724",
   "metadata": {},
   "outputs": [],
   "source": [
    "# Basic operations\n",
    "array1 = np.array([1, 2, 3])\n",
    "array2 = np.array([4, 5, 6])\n",
    "print(f\"Sum: {array1 + array2}\")\n",
    "print(f\"Multiply: {array1 * 2}\")"
   ]
  },
  {
   "cell_type": "code",
   "execution_count": null,
   "id": "d98bc949",
   "metadata": {},
   "outputs": [],
   "source": [
    "# Basic operations\n",
    "array1 = np.array([1, 2, 3])\n",
    "array2 = np.array([4, 5, 6])\n",
    "print(f\"Sum: {array1 + array2}\")\n",
    "print(f\"Multiply: {array1 * 2}\")"
   ]
  },
  {
   "cell_type": "code",
   "execution_count": null,
   "id": "79247e37",
   "metadata": {},
   "outputs": [],
   "source": [
    "# Create and sum array\n",
    "import numpy as np\n",
    "array = np.array([1, 2, 3, 4, 5])\n",
    "print(f\"Array: {array}\")\n",
    "print(f\"Sum: {np.sum(array)}\")"
   ]
  },
  {
   "cell_type": "code",
   "execution_count": null,
   "id": "52a5221f",
   "metadata": {},
   "outputs": [],
   "source": [
    "# Create ones array\n",
    "import numpy as np\n",
    "array = np.ones((2, 3))\n",
    "print(f\"Array:\\n{array}\")\n",
    "print(f\"Size: {array.size}\")"
   ]
  },
  {
   "cell_type": "code",
   "execution_count": null,
   "id": "815db833",
   "metadata": {},
   "outputs": [],
   "source": [
    "# Normalize array\n",
    "import numpy as np\n",
    "try:\n",
    "    numbers = [float(x) for x in input(\"Enter numbers (space-separated): \").split()]\n",
    "    array = np.array(numbers)\n",
    "    mean = np.mean(array)\n",
    "    std = np.std(array)\n",
    "    normalized = (array - mean) / std\n",
    "    print(f\"Original array: {array}\")\n",
    "    print(f\"Mean: {mean}\")\n",
    "    print(f\"Normalized array: {normalized}\")\n",
    "except ValueError:\n",
    "    print(\"Error: Please enter valid numbers!\")"
   ]
  },
  {
   "cell_type": "code",
   "execution_count": null,
   "id": "8c6ca4f4",
   "metadata": {},
   "outputs": [],
   "source": [
    "# Matrix multiplication\n",
    "import numpy as np\n",
    "matrix1 = np.array([[1, 2], [3, 4]])\n",
    "matrix2 = np.array([[5, 6], [7, 8]])\n",
    "result = np.dot(matrix1, matrix2)\n",
    "print(f\"Matrix 1:\\n{matrix1}\")\n",
    "print(f\"Matrix 2:\\n{matrix2}\")\n",
    "print(f\"Product:\\n{result}\")"
   ]
  },
  {
   "cell_type": "code",
   "execution_count": null,
   "id": "cec195b5",
   "metadata": {},
   "outputs": [],
   "source": [
    "# Filter above mean\n",
    "import numpy as np\n",
    "try:\n",
    "    numbers = [float(x) for x in input(\"Enter numbers (space-separated): \").split()]\n",
    "    array = np.array(numbers)\n",
    "    mean = np.mean(array)\n",
    "    above_mean = array[array > mean]\n",
    "    print(f\"Original array: {array}\")\n",
    "    print(f\"Mean: {mean}\")\n",
    "    print(f\"Numbers above mean: {above_mean}\")\n",
    "except ValueError:\n",
    "    print(\"Error: Please enter valid numbers!\")"
   ]
  },
  {
   "cell_type": "code",
   "execution_count": null,
   "id": "ab51ee0e",
   "metadata": {},
   "outputs": [],
   "source": [
    "# Random array and row sums\n",
    "import numpy as np\n",
    "array = np.random.randint(1, 11, (3, 3))\n",
    "row_sums = np.sum(array, axis=1)\n",
    "max_row_index = np.argmax(row_sums)\n",
    "print(f\"Array:\\n{array}\")\n",
    "print(f\"Row sums: {row_sums}\")\n",
    "print(f\"Row with max sum (row {max_row_index}): {array[max_row_index]}\")"
   ]
  },
  {
   "cell_type": "code",
   "execution_count": null,
   "id": "ef809fc2",
   "metadata": {},
   "outputs": [],
   "source": [
    "# Dot product and orthogonality\n",
    "import numpy as np\n",
    "try:\n",
    "    vector1 = np.array([float(x) for x in input(\"Enter vector 1 (3 numbers, space-separated): \").split()])\n",
    "    vector2 = np.array([float(x) for x in input(\"Enter vector 2 (3 numbers, space-separated): \").split()])\n",
    "    if len(vector1) != 3 or len(vector2) != 3:\n",
    "        raise ValueError(\"Each vector must have exactly 3 numbers!\")\n",
    "    dot_product = np.dot(vector1, vector2)\n",
    "    print(f\"Vector 1: {vector1}\")\n",
    "    print(f\"Vector 2: {vector2}\")\n",
    "    print(f\"Dot product: {dot_product}\")\n",
    "    print(f\"Vectors are {'orthogonal' if dot_product == 0 else 'not orthogonal'}\")\n",
    "except ValueError as e:\n",
    "    print(f\"Error: {e}\")"
   ]
  },
  {
   "cell_type": "code",
   "execution_count": null,
   "id": "e2daea86",
   "metadata": {},
   "outputs": [],
   "source": [
    "# Normalize data from file\n",
    "import numpy as np\n",
    "try:\n",
    "    with open(\"data.txt\", \"r\") as file:\n",
    "        numbers = [float(line.strip()) for line in file]\n",
    "    array = np.array(numbers)\n",
    "    mean = np.mean(array)\n",
    "    std = np.std(array)\n",
    "    normalized = (array - mean) / std\n",
    "    with open(\"normalized.txt\", \"w\") as file:\n",
    "        for value in normalized:\n",
    "            file.write(f\"{value}\\n\")\n",
    "    print(f\"Original data: {array}\")\n",
    "    print(f\"Normalized data: {normalized}\")\n",
    "    print(\"Results saved to normalized.txt\")\n",
    "except FileNotFoundError:\n",
    "    print(\"Error: File not found!\")\n",
    "except ValueError:\n",
    "    print(\"Error: Invalid data in file!\")\n",
    "except PermissionError:\n",
    "    print(\"Error: No permission to write file!\")"
   ]
  }
 ],
 "metadata": {
  "kernelspec": {
   "display_name": "machine_learning_advanced",
   "language": "python",
   "name": "python3"
  },
  "language_info": {
   "codemirror_mode": {
    "name": "ipython",
    "version": 3
   },
   "file_extension": ".py",
   "mimetype": "text/x-python",
   "name": "python",
   "nbconvert_exporter": "python",
   "pygments_lexer": "ipython3",
   "version": "3.11.13"
  }
 },
 "nbformat": 4,
 "nbformat_minor": 5
}
