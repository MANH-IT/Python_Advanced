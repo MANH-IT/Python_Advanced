{
 "cells": [
  {
   "cell_type": "code",
   "execution_count": 2,
   "id": "f7c1e8fd",
   "metadata": {},
   "outputs": [],
   "source": [
    "import matplotlib.pyplot as plt\n",
    "import numpy as np"
   ]
  },
  {
   "cell_type": "code",
   "execution_count": null,
   "id": "1f2f29ca",
   "metadata": {},
   "outputs": [],
   "source": [
    "# Plot loss\n",
    "epochs = range(1, 6)\n",
    "loss = [0.5, 0.3, 0.2, 0.15, 0.1]\n",
    "plt.plot(epochs, loss, marker='o', color='blue', label='Loss')\n",
    "plt.title(\"Loss over Epochs\")\n",
    "plt.xlabel(\"Epoch\")\n",
    "plt.ylabel(\"Loss\")\n",
    "plt.legend()\n",
    "plt.grid(True)\n",
    "plt.savefig(\"loss_plot.png\")\n",
    "print(\"Loss plot saved to loss_plot.png\")"
   ]
  },
  {
   "cell_type": "code",
   "execution_count": null,
   "id": "4095f4f1",
   "metadata": {},
   "outputs": [],
   "source": [
    "# Simple line plot\n",
    "import matplotlib.pyplot as plt\n",
    "import numpy as np\n",
    "x = np.array([1, 2, 3, 4])\n",
    "y = np.array([10, 20, 25, 30])\n",
    "plt.plot(x, y, marker='o', color='blue', linestyle='--', label='Data')\n",
    "plt.title(\"Line Plot\")\n",
    "plt.xlabel(\"X\")\n",
    "plt.ylabel(\"Y\")\n",
    "plt.legend()\n",
    "plt.grid(True)\n",
    "plt.savefig(\"line_plot.png\")\n",
    "print(\"Line plot saved to line_plot.png\")"
   ]
  },
  {
   "cell_type": "code",
   "execution_count": null,
   "id": "eff86cac",
   "metadata": {},
   "outputs": [],
   "source": [
    "# Scatter plot\n",
    "import matplotlib.pyplot as plt\n",
    "import numpy as np\n",
    "x = np.array([1, 2, 3, 4])\n",
    "y = np.array([5, 15, 10, 20])\n",
    "plt.scatter(x, y, color='red', label='Points')\n",
    "plt.title(\"Scatter Plot\")\n",
    "plt.xlabel(\"X\")\n",
    "plt.ylabel(\"Y\")\n",
    "plt.legend()\n",
    "plt.grid(True)\n",
    "plt.savefig(\"scatter_plot.png\")\n",
    "print(\"Scatter plot saved to scatter_plot.png\")"
   ]
  },
  {
   "cell_type": "code",
   "execution_count": null,
   "id": "a2970a6c",
   "metadata": {},
   "outputs": [],
   "source": [
    "# Bar plot\n",
    "import matplotlib.pyplot as plt\n",
    "categories = ['Math', 'Physics', 'Chemistry']\n",
    "scores = [8.5, 7.0, 9.0]\n",
    "plt.bar(categories, scores, color='green', label='Scores')\n",
    "plt.title(\"Exam Scores\")\n",
    "plt.xlabel(\"Subject\")\n",
    "plt.ylabel(\"Score\")\n",
    "plt.legend()\n",
    "plt.grid(True)\n",
    "plt.savefig(\"bar_plot.png\")\n",
    "print(\"Bar plot saved to bar_plot.png\")"
   ]
  },
  {
   "cell_type": "code",
   "execution_count": null,
   "id": "bf88ef3c",
   "metadata": {},
   "outputs": [],
   "source": [
    "# Histogram\n",
    "import matplotlib.pyplot as plt\n",
    "import numpy as np\n",
    "data = np.random.randn(1000)\n",
    "plt.hist(data, bins=30, color='orange', label='Data')\n",
    "plt.title(\"Normal Distribution Histogram\")\n",
    "plt.xlabel(\"Value\")\n",
    "plt.ylabel(\"Frequency\")\n",
    "plt.legend()\n",
    "plt.grid(True)\n",
    "plt.savefig(\"histogram_plot.png\")\n",
    "print(\"Histogram saved to histogram_plot.png\")"
   ]
  },
  {
   "cell_type": "code",
   "execution_count": null,
   "id": "408878b7",
   "metadata": {},
   "outputs": [],
   "source": [
    "# Square line plot\n",
    "import matplotlib.pyplot as plt\n",
    "import numpy as np\n",
    "x = np.array([1, 2, 3, 4, 5])\n",
    "y = x**2\n",
    "plt.plot(x, y, marker='o', color='blue', label='Square')\n",
    "plt.title(\"Square Plot\")\n",
    "plt.xlabel(\"X\")\n",
    "plt.ylabel(\"Y\")\n",
    "plt.legend()\n",
    "plt.grid(True)\n",
    "plt.savefig(\"square_plot.png\")\n",
    "print(\"Square plot saved to square_plot.png\")"
   ]
  },
  {
   "cell_type": "code",
   "execution_count": null,
   "id": "6d9bb449",
   "metadata": {},
   "outputs": [],
   "source": [
    "# Sin scatter plot\n",
    "import matplotlib.pyplot as plt\n",
    "import numpy as np\n",
    "x = np.arange(0, 11, 2)\n",
    "y = np.sin(x)\n",
    "plt.scatter(x, y, color='red', label='sin(x)')\n",
    "plt.title(\"Sin Scatter Plot\")\n",
    "plt.xlabel(\"X\")\n",
    "plt.ylabel(\"sin(X)\")\n",
    "plt.legend()\n",
    "plt.grid(True)\n",
    "plt.savefig(\"sin_scatter_plot.png\")\n",
    "print(\"Sin scatter plot saved to sin_scatter_plot.png\")"
   ]
  },
  {
   "cell_type": "code",
   "execution_count": null,
   "id": "d1ce6835",
   "metadata": {},
   "outputs": [],
   "source": [
    "# Student bar plot\n",
    "import pandas as pd\n",
    "import matplotlib.pyplot as plt\n",
    "data = {'name': ['An', 'Binh', 'Lan', 'Cuong'], 'score': [8.5, 7.0, 9.0, 7.5]}\n",
    "df = pd.DataFrame(data)\n",
    "plt.bar(df['name'], df['score'], color='green', label='Scores')\n",
    "plt.title(\"Student Scores\")\n",
    "plt.xlabel(\"Name\")\n",
    "plt.ylabel(\"Score\")\n",
    "plt.legend()\n",
    "plt.grid(True)\n",
    "plt.savefig(\"student_bar_plot.png\")\n",
    "print(\"Student bar plot saved to student_bar_plot.png\")"
   ]
  },
  {
   "cell_type": "code",
   "execution_count": null,
   "id": "72b52c06",
   "metadata": {},
   "outputs": [],
   "source": [
    "# Multiple lines plot\n",
    "import matplotlib.pyplot as plt\n",
    "import numpy as np\n",
    "x = np.arange(0, 11, 1)\n",
    "y1 = x**2\n",
    "y2 = x**3\n",
    "plt.plot(x, y1, marker='o', color='blue', label='x^2')\n",
    "plt.plot(x, y2, marker='s', color='red', label='x^3')\n",
    "plt.title(\"Comparison of x^2 and x^3\")\n",
    "plt.xlabel(\"X\")\n",
    "plt.ylabel(\"Y\")\n",
    "plt.legend()\n",
    "plt.grid(True)\n",
    "plt.savefig(\"multiple_lines_plot.png\")\n",
    "print(\"Multiple lines plot saved to multiple_lines_plot.png\")"
   ]
  },
  {
   "cell_type": "code",
   "execution_count": null,
   "id": "b92108e7",
   "metadata": {},
   "outputs": [],
   "source": [
    "# Normal histogram\n",
    "import matplotlib.pyplot as plt\n",
    "import numpy as np\n",
    "data = np.random.randn(1000)\n",
    "plt.hist(data, bins=30, color='orange', label='Data')\n",
    "plt.title(\"Normal Distribution Histogram\")\n",
    "plt.xlabel(\"Value\")\n",
    "plt.ylabel(\"Frequency\")\n",
    "plt.legend()\n",
    "plt.grid(True)\n",
    "plt.savefig(\"histogram_plot.png\")\n",
    "print(\"Histogram saved to histogram_plot.png\")"
   ]
  },
  {
   "cell_type": "code",
   "execution_count": null,
   "id": "58c37cac",
   "metadata": {},
   "outputs": [],
   "source": [
    "# Grouped bar plot\n",
    "import pandas as pd\n",
    "import matplotlib.pyplot as plt\n",
    "import numpy as np\n",
    "data = {'name': ['An', 'Binh', 'Lan'], 'math': [8.5, 7.0, 9.0], 'physics': [7.5, 8.0, 6.5]}\n",
    "df = pd.DataFrame(data)\n",
    "x = np.arange(len(df['name']))\n",
    "width = 0.35\n",
    "plt.bar(x - width/2, df['math'], width, color='blue', label='Math')\n",
    "plt.bar(x + width/2, df['physics'], width, color='red', label='Physics')\n",
    "plt.xticks(x, df['name'])\n",
    "plt.title(\"Math and Physics Scores\")\n",
    "plt.xlabel(\"Name\")\n",
    "plt.ylabel(\"Score\")\n",
    "plt.legend()\n",
    "plt.grid(True)\n",
    "plt.savefig(\"grouped_bar_plot.png\")\n",
    "print(\"Grouped bar plot saved to grouped_bar_plot.png\")"
   ]
  },
  {
   "cell_type": "code",
   "execution_count": null,
   "id": "f783b2b1",
   "metadata": {},
   "outputs": [],
   "source": [
    "# Scatter plot from CSV\n",
    "import pandas as pd\n",
    "import matplotlib.pyplot as plt\n",
    "try:\n",
    "    df = pd.read_csv('data.csv')\n",
    "    plt.scatter(df['x'], df['y'], color='purple', label='Data')\n",
    "    plt.title(\"Scatter Plot from CSV\")\n",
    "    plt.xlabel(\"X\")\n",
    "    plt.ylabel(\"Y\")\n",
    "    plt.legend()\n",
    "    plt.grid(True)\n",
    "    plt.savefig(\"csv_scatter_plot.png\")\n",
    "    print(\"Scatter plot saved to csv_scatter_plot.png\")\n",
    "except FileNotFoundError:\n",
    "    print(\"Error: File not found!\")\n",
    "except KeyError:\n",
    "    print(\"Error: File does not contain 'x' or 'y' columns!\")"
   ]
  },
  {
   "cell_type": "code",
   "execution_count": null,
   "id": "84af609c",
   "metadata": {},
   "outputs": [],
   "source": [
    "# Loss and accuracy plot\n",
    "import matplotlib.pyplot as plt\n",
    "import numpy as np\n",
    "epochs = np.array([1, 2, 3, 4, 5])\n",
    "loss = np.array([0.5, 0.3, 0.2, 0.15, 0.1])\n",
    "accuracy = np.array([0.6, 0.7, 0.8, 0.85, 0.9])\n",
    "plt.plot(epochs, loss, marker='o', color='blue', label='Loss')\n",
    "plt.plot(epochs, accuracy, marker='s', color='red', label='Accuracy')\n",
    "plt.title(\"Loss and Accuracy over Epochs\")\n",
    "plt.xlabel(\"Epoch\")\n",
    "plt.ylabel(\"Value\")\n",
    "plt.legend()\n",
    "plt.grid(True)\n",
    "plt.savefig(\"loss_accuracy_plot.png\")\n",
    "print(\"Loss and accuracy plot saved to loss_accuracy_plot.png\")"
   ]
  }
 ],
 "metadata": {
  "kernelspec": {
   "display_name": "machine_learning_advanced",
   "language": "python",
   "name": "python3"
  },
  "language_info": {
   "codemirror_mode": {
    "name": "ipython",
    "version": 3
   },
   "file_extension": ".py",
   "mimetype": "text/x-python",
   "name": "python",
   "nbconvert_exporter": "python",
   "pygments_lexer": "ipython3",
   "version": "3.11.13"
  }
 },
 "nbformat": 4,
 "nbformat_minor": 5
}
