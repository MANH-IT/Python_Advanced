{
 "cells": [
  {
   "cell_type": "code",
   "execution_count": 9,
   "id": "54b8f1cf",
   "metadata": {},
   "outputs": [
    {
     "name": "stdout",
     "output_type": "stream",
     "text": [
      "Name: Milo\n",
      "Milo barks: Woof!\n"
     ]
    }
   ],
   "source": [
    "# Dog class \n",
    "class Dog: \n",
    "    def __init__(self, name, age):\n",
    "        self.name = name\n",
    "        self.age = age \n",
    "    def bark(self):\n",
    "        print(f\"{self.name} barks: Woof!\")\n",
    "dog = Dog(\"Milo\", 3)\n",
    "print(f\"Name: {dog.name}\")\n",
    "dog.bark()"
   ]
  },
  {
   "cell_type": "code",
   "execution_count": 10,
   "id": "440f6777",
   "metadata": {},
   "outputs": [
    {
     "name": "stdout",
     "output_type": "stream",
     "text": [
      "Kitty is eating.\n",
      "Kitty meows: Meow!\n"
     ]
    }
   ],
   "source": [
    "# Animal and Cat classes\n",
    "class Animal:\n",
    "    def __init__(self, name):\n",
    "        self.name = name\n",
    "\n",
    "    def eat(self):\n",
    "        print(f\"{self.name} is eating.\")\n",
    "\n",
    "class Cat(Animal):\n",
    "    def meow(self):\n",
    "        print(f\"{self.name} meows: Meow!\")\n",
    "\n",
    "cat = Cat(\"Kitty\")\n",
    "cat.eat()\n",
    "cat.meow()"
   ]
  },
  {
   "cell_type": "code",
   "execution_count": 11,
   "id": "ac2a5c2c",
   "metadata": {},
   "outputs": [
    {
     "name": "stdout",
     "output_type": "stream",
     "text": [
      "Score: 85\n",
      "New score: 90\n"
     ]
    }
   ],
   "source": [
    "# Student class with encapsulation\n",
    "class Student:\n",
    "    def __init__(self, name, score):\n",
    "        self.__name = name\n",
    "        self.__score = score\n",
    "\n",
    "    def get_score(self):\n",
    "        return self.__score\n",
    "\n",
    "    def set_score(self, score):\n",
    "        if 0 <= score <= 100:\n",
    "            self.__score = score\n",
    "        else:\n",
    "            print(\"Invalid score!\")\n",
    "student = Student(\"Alice\", 85)\n",
    "print(f\"Score: {student.get_score()}\")\n",
    "student.set_score(90)\n",
    "print(f\"New score: {student.get_score()}\")"
   ]
  },
  {
   "cell_type": "code",
   "execution_count": 12,
   "id": "32f0432e",
   "metadata": {},
   "outputs": [
    {
     "name": "stdout",
     "output_type": "stream",
     "text": [
      "Woof!\n",
      "Meow!\n"
     ]
    }
   ],
   "source": [
    "# Polymorphism with animal sounds\n",
    "class Dog:\n",
    "    def sound(self):\n",
    "        return \"Woof!\"\n",
    "\n",
    "class Cat:\n",
    "    def sound(self):\n",
    "        return \"Meow!\"\n",
    "\n",
    "def make_sound(animal):\n",
    "    print(animal.sound())\n",
    "\n",
    "dog = Dog()\n",
    "cat = Cat()\n",
    "make_sound(dog)\n",
    "make_sound(cat)"
   ]
  },
  {
   "cell_type": "code",
   "execution_count": 13,
   "id": "638ec079",
   "metadata": {},
   "outputs": [],
   "source": [
    "# Bank account with error handling\n",
    "class BankAccount:\n",
    "    def __init__(self, owner, balance):\n",
    "        self.__owner = owner\n",
    "        self.__balance = balance\n",
    "\n",
    "    def deposit(self, amount):\n",
    "        try:\n",
    "            amount = float(amount)\n",
    "            if amount > 0:\n",
    "                self.__balance += amount\n",
    "                print(f\"Deposited {amount} USD\")\n",
    "            else:\n",
    "                print(\"Amount must be positive!\")\n",
    "        except ValueError:\n",
    "            print(\"Please enter a valid number!\")\n",
    "\n",
    "    def get_balance(self):\n",
    "        return self.__balance"
   ]
  },
  {
   "cell_type": "code",
   "execution_count": 14,
   "id": "7980210c",
   "metadata": {},
   "outputs": [
    {
     "name": "stdout",
     "output_type": "stream",
     "text": [
      "Perimeter: 31.400000000000002\n",
      "Area: 78.5\n"
     ]
    }
   ],
   "source": [
    "# Circle class\n",
    "class Circle:\n",
    "    def __init__(self, radius):\n",
    "        self.radius = radius\n",
    "\n",
    "    def perimeter(self):\n",
    "        return 2 * 3.14 * self.radius\n",
    "\n",
    "    def area(self):\n",
    "        return 3.14 * self.radius ** 2\n",
    "\n",
    "circle = Circle(float(input(\"Enter radius: \")))\n",
    "print(f\"Perimeter: {circle.perimeter()}\")\n",
    "print(f\"Area: {circle.area()}\")"
   ]
  },
  {
   "cell_type": "code",
   "execution_count": 15,
   "id": "f7994200",
   "metadata": {},
   "outputs": [
    {
     "name": "stdout",
     "output_type": "stream",
     "text": [
      "Student: 7, Score: 8.0\n",
      "Result: Pass\n"
     ]
    }
   ],
   "source": [
    "# Student class\n",
    "class Student:\n",
    "    def __init__(self, name, score):\n",
    "        self.name = name\n",
    "        self.score = score\n",
    "\n",
    "    def display(self):\n",
    "        print(f\"Student: {self.name}, Score: {self.score}\")\n",
    "\n",
    "    def pass_or_fail(self):\n",
    "        return \"Pass\" if self.score >= 5 else \"Fail\"\n",
    "\n",
    "student = Student(input(\"Enter name: \"), float(input(\"Enter score: \")))\n",
    "student.display()\n",
    "print(f\"Result: {student.pass_or_fail()}\")"
   ]
  },
  {
   "cell_type": "code",
   "execution_count": 16,
   "id": "73b7aeeb",
   "metadata": {},
   "outputs": [
    {
     "name": "stdout",
     "output_type": "stream",
     "text": [
      "6 is eating.\n",
      "6 barks: Woof!\n"
     ]
    }
   ],
   "source": [
    "# Animal and Dog classes\n",
    "class Animal:\n",
    "    def __init__(self, name):\n",
    "        self.name = name\n",
    "\n",
    "    def eat(self):\n",
    "        print(f\"{self.name} is eating.\")\n",
    "\n",
    "class Dog(Animal):\n",
    "    def bark(self):\n",
    "        print(f\"{self.name} barks: Woof!\")\n",
    "\n",
    "dog = Dog(input(\"Enter dog name: \"))\n",
    "dog.eat()\n",
    "dog.bark()"
   ]
  },
  {
   "cell_type": "code",
   "execution_count": 17,
   "id": "25f9be1d",
   "metadata": {},
   "outputs": [
    {
     "name": "stdout",
     "output_type": "stream",
     "text": [
      "Balance: 1000\n",
      "Deposited 7.0 USD\n",
      "Withdrew 8.0 USD\n",
      "New balance: 999.0\n"
     ]
    }
   ],
   "source": [
    "# Bank account with encapsulation\n",
    "class BankAccount:\n",
    "    def __init__(self, owner, balance):\n",
    "        self.__owner = owner\n",
    "        self.__balance = balance\n",
    "\n",
    "    def get_balance(self):\n",
    "        return self.__balance\n",
    "\n",
    "    def deposit(self, amount):\n",
    "        if amount > 0:\n",
    "            self.__balance += amount\n",
    "            print(f\"Deposited {amount} USD\")\n",
    "        else:\n",
    "            print(\"Invalid amount!\")\n",
    "\n",
    "    def withdraw(self, amount):\n",
    "        if amount > 0 and amount <= self.__balance:\n",
    "            self.__balance -= amount\n",
    "            print(f\"Withdrew {amount} USD\")\n",
    "        else:\n",
    "            print(\"Invalid amount or insufficient balance!\")\n",
    "\n",
    "account = BankAccount(\"Alice\", 1000)\n",
    "print(f\"Balance: {account.get_balance()}\")\n",
    "account.deposit(float(input(\"Enter deposit amount: \")))\n",
    "account.withdraw(float(input(\"Enter withdrawal amount: \")))\n",
    "print(f\"New balance: {account.get_balance()}\")"
   ]
  },
  {
   "cell_type": "code",
   "execution_count": 18,
   "id": "7810119c",
   "metadata": {},
   "outputs": [
    {
     "name": "stdout",
     "output_type": "stream",
     "text": [
      "Triangle area: 7.5\n"
     ]
    }
   ],
   "source": [
    "# Triangle class\n",
    "class Triangle:\n",
    "    def __init__(self, base, height):\n",
    "        self.base = base\n",
    "        self.height = height\n",
    "\n",
    "    def area(self):\n",
    "        return 0.5 * self.base * self.height\n",
    "\n",
    "triangle = Triangle(float(input(\"Enter base: \")), float(input(\"Enter height: \")))\n",
    "print(f\"Triangle area: {triangle.area()}\")"
   ]
  },
  {
   "cell_type": "code",
   "execution_count": 19,
   "id": "d78dd7f0",
   "metadata": {},
   "outputs": [
    {
     "name": "stdout",
     "output_type": "stream",
     "text": [
      "Circle area: 200.96\n",
      "Rectangle area: 63.0\n"
     ]
    }
   ],
   "source": [
    "# Shape hierarchy\n",
    "class Shape:\n",
    "    def area(self):\n",
    "        return 0\n",
    "\n",
    "class Circle(Shape):\n",
    "    def __init__(self, radius):\n",
    "        self.radius = radius\n",
    "\n",
    "    def area(self):\n",
    "        return 3.14 * self.radius ** 2\n",
    "\n",
    "class Rectangle(Shape):\n",
    "    def __init__(self, length, width):\n",
    "        self.length = length\n",
    "        self.width = width\n",
    "\n",
    "    def area(self):\n",
    "        return self.length * self.width\n",
    "\n",
    "circle = Circle(float(input(\"Enter radius: \")))\n",
    "rectangle = Rectangle(float(input(\"Enter length: \")), float(input(\"Enter width: \")))\n",
    "print(f\"Circle area: {circle.area()}\")\n",
    "print(f\"Rectangle area: {rectangle.area()}\")"
   ]
  },
  {
   "cell_type": "code",
   "execution_count": 20,
   "id": "66afec82",
   "metadata": {},
   "outputs": [
    {
     "name": "stdout",
     "output_type": "stream",
     "text": [
      "Added grade: 5.0\n",
      "Added grade: 4.0\n",
      "Average grade: 4.5\n"
     ]
    }
   ],
   "source": [
    "# Student class with grades\n",
    "class Student:\n",
    "    def __init__(self, name):\n",
    "        self.__name = name\n",
    "        self.__grades = []\n",
    "\n",
    "    def add_grade(self, grade):\n",
    "        if 0 <= grade <= 100:\n",
    "            self.__grades.append(grade)\n",
    "            print(f\"Added grade: {grade}\")\n",
    "        else:\n",
    "            print(\"Invalid grade!\")\n",
    "\n",
    "    def get_average(self):\n",
    "        return sum(self.__grades) / len(self.__grades) if self.__grades else 0\n",
    "\n",
    "student = Student(input(\"Enter name: \"))\n",
    "student.add_grade(float(input(\"Enter grade 1: \")))\n",
    "student.add_grade(float(input(\"Enter grade 2: \")))\n",
    "print(f\"Average grade: {student.get_average()}\")"
   ]
  },
  {
   "cell_type": "code",
   "execution_count": 21,
   "id": "02c087ff",
   "metadata": {},
   "outputs": [
    {
     "name": "stdout",
     "output_type": "stream",
     "text": [
      "Predict using Linear Regression\n",
      "Predict using Decision Tree\n"
     ]
    }
   ],
   "source": [
    "# Model hierarchy\n",
    "class Model:\n",
    "    def predict(self):\n",
    "        return \"No prediction\"\n",
    "\n",
    "class LinearRegression(Model):\n",
    "    def predict(self):\n",
    "        return \"Predict using Linear Regression\"\n",
    "\n",
    "class DecisionTree(Model):\n",
    "    def predict(self):\n",
    "        return \"Predict using Decision Tree\"\n",
    "\n",
    "models = [LinearRegression(), DecisionTree()]\n",
    "for model in models:\n",
    "    print(model.predict())"
   ]
  },
  {
   "cell_type": "code",
   "execution_count": null,
   "id": "57812c11",
   "metadata": {},
   "outputs": [],
   "source": []
  }
 ],
 "metadata": {
  "kernelspec": {
   "display_name": "machine_learning_advanced",
   "language": "python",
   "name": "python3"
  },
  "language_info": {
   "codemirror_mode": {
    "name": "ipython",
    "version": 3
   },
   "file_extension": ".py",
   "mimetype": "text/x-python",
   "name": "python",
   "nbconvert_exporter": "python",
   "pygments_lexer": "ipython3",
   "version": "3.11.13"
  }
 },
 "nbformat": 4,
 "nbformat_minor": 5
}
