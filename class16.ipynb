{
 "cells": [
  {
   "cell_type": "code",
   "execution_count": null,
   "id": "75e50ead",
   "metadata": {},
   "outputs": [],
   "source": [
    "# Regression plot\n",
    "import seaborn as sns\n",
    "import matplotlib.pyplot as plt\n",
    "import pandas as pd\n",
    "data = {'age': [20, 22, 21, 23], 'score': [8.5, 7.0, 9.0, 7.5]}\n",
    "df = pd.DataFrame(data)\n",
    "sns.regplot(x=\"age\", y=\"score\", data=df)\n",
    "plt.title(\"Linear Regression of Age vs Score\")\n",
    "plt.xlabel(\"Age\")\n",
    "plt.ylabel(\"Score\")\n",
    "plt.savefig(\"regplot.png\")\n",
    "print(\"Regression plot saved to regplot.png\")"
   ]
  },
  {
   "cell_type": "code",
   "execution_count": null,
   "id": "f65500c5",
   "metadata": {},
   "outputs": [],
   "source": [
    "# Bar plot\n",
    "import seaborn as sns\n",
    "import matplotlib.pyplot as plt\n",
    "import pandas as pd\n",
    "data = {'name': ['An', 'Binh', 'Lan'], 'score': [8.5, 7.0, 9.0]}\n",
    "df = pd.DataFrame(data)\n",
    "sns.barplot(x=\"name\", y=\"score\", data=df)\n",
    "plt.title(\"Average Scores\")\n",
    "plt.xlabel(\"Name\")\n",
    "plt.ylabel(\"Score\")\n",
    "plt.savefig(\"bar_plot.png\")\n",
    "print(\"Bar plot saved to bar_plot.png\")"
   ]
  },
  {
   "cell_type": "code",
   "execution_count": null,
   "id": "591fb4d7",
   "metadata": {},
   "outputs": [],
   "source": [
    "# Box plot\n",
    "import seaborn as sns\n",
    "import matplotlib.pyplot as plt\n",
    "import pandas as pd\n",
    "data = {'class': ['A', 'A', 'B', 'B'], 'score': [8.5, 7.0, 9.0, 6.5]}\n",
    "df = pd.DataFrame(data)\n",
    "sns.boxplot(x=\"class\", y=\"score\", data=df)\n",
    "plt.title(\"Score Distribution by Class\")\n",
    "plt.xlabel(\"Class\")\n",
    "plt.ylabel(\"Score\")\n",
    "plt.savefig(\"box_plot.png\")\n",
    "print(\"Box plot saved to box_plot.png\")"
   ]
  },
  {
   "cell_type": "code",
   "execution_count": null,
   "id": "92b2d4fa",
   "metadata": {},
   "outputs": [],
   "source": [
    "# Scatter plot\n",
    "import seaborn as sns\n",
    "import matplotlib.pyplot as plt\n",
    "import pandas as pd\n",
    "data = {'age': [20, 22, 21, 23], 'score': [8.5, 7.0, 9.0, 7.5]}\n",
    "df = pd.DataFrame(data)\n",
    "sns.scatterplot(x=\"age\", y=\"score\", data=df)\n",
    "plt.title(\"Age vs Score\")\n",
    "plt.xlabel(\"Age\")\n",
    "plt.ylabel(\"Score\")\n",
    "plt.savefig(\"scatter_exercise.png\")\n",
    "print(\"Scatter plot saved to scatter_exercise.png\")"
   ]
  },
  {
   "cell_type": "code",
   "execution_count": null,
   "id": "17d2336a",
   "metadata": {},
   "outputs": [],
   "source": [
    "# Histogram\n",
    "import seaborn as sns\n",
    "import matplotlib.pyplot as plt\n",
    "import pandas as pd\n",
    "data = {'score': [8.5, 7.0, 9.0, 7.5, 8.0, 6.5]}\n",
    "df = pd.DataFrame(data)\n",
    "sns.histplot(data=df, x=\"score\", bins=5)\n",
    "plt.title(\"Student Score Distribution\")\n",
    "plt.xlabel(\"Score\")\n",
    "plt.ylabel(\"Count\")\n",
    "plt.savefig(\"histogram_exercise.png\")\n",
    "print(\"Histogram saved to histogram_exercise.png\")"
   ]
  },
  {
   "cell_type": "code",
   "execution_count": null,
   "id": "5a047791",
   "metadata": {},
   "outputs": [],
   "source": [
    "# Bar plot with hue\n",
    "import seaborn as sns\n",
    "import matplotlib.pyplot as plt\n",
    "import pandas as pd\n",
    "data = {'name': ['An', 'Binh', 'Lan', 'Cuong'], 'score': [8.5, 7.0, 9.0, 7.5], 'class': ['A', 'B', 'A', 'B']}\n",
    "df = pd.DataFrame(data)\n",
    "sns.barplot(x=\"class\", y=\"score\", hue=\"class\", data=df)\n",
    "plt.title(\"Average Scores by Class\")\n",
    "plt.xlabel(\"Class\")\n",
    "plt.ylabel(\"Score\")\n",
    "plt.savefig(\"bar_exercise.png\")\n",
    "print(\"Bar plot saved to bar_exercise.png\")"
   ]
  },
  {
   "cell_type": "code",
   "execution_count": null,
   "id": "667541e7",
   "metadata": {},
   "outputs": [],
   "source": [
    "# Box plot\n",
    "import seaborn as sns\n",
    "import matplotlib.pyplot as plt\n",
    "import pandas as pd\n",
    "data = {'score': [8.5, 7.0, 9.0, 7.5, 8.0, 6.5], 'class': ['A', 'A', 'A', 'B', 'B', 'B']}\n",
    "df = pd.DataFrame(data)\n",
    "sns.boxplot(x=\"class\", y=\"score\", data=df)\n",
    "plt.title(\"Score Distribution by Class\")\n",
    "plt.xlabel(\"Class\")\n",
    "plt.ylabel(\"Score\")\n",
    "plt.savefig(\"box_exercise.png\")\n",
    "print(\"Box plot saved to box_exercise.png\")"
   ]
  },
  {
   "cell_type": "code",
   "execution_count": null,
   "id": "b315fd6d",
   "metadata": {},
   "outputs": [],
   "source": [
    "# Scatter plot with size\n",
    "import seaborn as sns\n",
    "import matplotlib.pyplot as plt\n",
    "import pandas as pd\n",
    "data = {'age': [20, 22, 21, 23], 'score': [8.5, 7.0, 9.0, 7.5], 'hours': [5, 3, 6, 4]}\n",
    "df = pd.DataFrame(data)\n",
    "sns.scatterplot(x=\"age\", y=\"score\", size=\"hours\", data=df)\n",
    "plt.title(\"Age vs Score with Study Hours\")\n",
    "plt.xlabel(\"Age\")\n",
    "plt.ylabel(\"Score\")\n",
    "plt.savefig(\"scatter_size_exercise.png\")\n",
    "print(\"Scatter plot with size saved to scatter_size_exercise.png\")"
   ]
  },
  {
   "cell_type": "code",
   "execution_count": null,
   "id": "f2a08bd2",
   "metadata": {},
   "outputs": [],
   "source": [
    "# KDE plot\n",
    "import seaborn as sns\n",
    "import matplotlib.pyplot as plt\n",
    "import pandas as pd\n",
    "data = {'score': [8.5, 7.0, 9.0, 7.5, 8.0, 6.5]}\n",
    "df = pd.DataFrame(data)\n",
    "sns.kdeplot(data=df, x=\"score\")\n",
    "plt.title(\"Student Score Density\")\n",
    "plt.xlabel(\"Score\")\n",
    "plt.ylabel(\"Density\")\n",
    "plt.savefig(\"kde_exercise.png\")\n",
    "print(\"KDE plot saved to kde_exercise.png\")"
   ]
  },
  {
   "cell_type": "code",
   "execution_count": null,
   "id": "f4dfac9f",
   "metadata": {},
   "outputs": [],
   "source": [
    "# KDE plot\n",
    "import seaborn as sns\n",
    "import matplotlib.pyplot as plt\n",
    "import pandas as pd\n",
    "data = {'score': [8.5, 7.0, 9.0, 7.5, 8.0, 6.5]}\n",
    "df = pd.DataFrame(data)\n",
    "sns.kdeplot(data=df, x=\"score\")\n",
    "plt.title(\"Student Score Density\")\n",
    "plt.xlabel(\"Score\")\n",
    "plt.ylabel(\"Density\")\n",
    "plt.savefig(\"kde_exercise.png\")\n",
    "print(\"KDE plot saved to kde_exercise.png\")"
   ]
  },
  {
   "cell_type": "code",
   "execution_count": null,
   "id": "71164692",
   "metadata": {},
   "outputs": [],
   "source": [
    "# Bar plot from CSV\n",
    "import seaborn as sns\n",
    "import matplotlib.pyplot as plt\n",
    "import pandas as pd\n",
    "try:\n",
    "    df = pd.read_csv('students.csv')\n",
    "    sns.barplot(x=\"class\", y=\"score\", hue=\"class\", data=df)\n",
    "    plt.title(\"Average Scores by Class\")\n",
    "    plt.xlabel(\"Class\")\n",
    "    plt.ylabel(\"Score\")\n",
    "    plt.savefig(\"bar_file_exercise.png\")\n",
    "    print(\"Bar plot saved to bar_file_exercise.png\")\n",
    "except FileNotFoundError:\n",
    "    print(\"Error: File not found!\")\n",
    "except KeyError:\n",
    "    print(\"Error: File does not contain 'class' or 'score' columns!\")"
   ]
  }
 ],
 "metadata": {
  "kernelspec": {
   "display_name": "machine_learning_advanced",
   "language": "python",
   "name": "python3"
  },
  "language_info": {
   "codemirror_mode": {
    "name": "ipython",
    "version": 3
   },
   "file_extension": ".py",
   "mimetype": "text/x-python",
   "name": "python",
   "nbconvert_exporter": "python",
   "pygments_lexer": "ipython3",
   "version": "3.11.13"
  }
 },
 "nbformat": 4,
 "nbformat_minor": 5
}
