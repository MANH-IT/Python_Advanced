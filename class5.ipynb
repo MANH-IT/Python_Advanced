{
 "cells": [
  {
   "cell_type": "code",
   "execution_count": 8,
   "id": "f0a1785c",
   "metadata": {},
   "outputs": [
    {
     "name": "stdout",
     "output_type": "stream",
     "text": [
      "Hello\n"
     ]
    }
   ],
   "source": [
    "# Simple greeting function\n",
    "\n",
    "def say_hello():\n",
    "    print(\"Hello\")\n",
    "say_hello()"
   ]
  },
  {
   "cell_type": "code",
   "execution_count": 9,
   "id": "1fef679e",
   "metadata": {},
   "outputs": [
    {
     "name": "stdout",
     "output_type": "stream",
     "text": [
      "Sum: 8\n"
     ]
    }
   ],
   "source": [
    "# Function with parameters and return\n",
    "def add (a, b):\n",
    "    return a + b \n",
    "result = add(3, 5)\n",
    "print(f\"Sum: {result}\")"
   ]
  },
  {
   "cell_type": "code",
   "execution_count": 10,
   "id": "5014ebaa",
   "metadata": {},
   "outputs": [
    {
     "name": "stdout",
     "output_type": "stream",
     "text": [
      "Hello, guest !\n",
      "Hello, Phan Dinh Manh !\n"
     ]
    }
   ],
   "source": [
    "# Funciton with default parameter \n",
    "def greet (name = \"guest\"):\n",
    "    print(f\"Hello, {name} !\")\n",
    "greet()\n",
    "greet(\"Phan Dinh Manh\")"
   ]
  },
  {
   "cell_type": "code",
   "execution_count": 11,
   "id": "76fb3dcb",
   "metadata": {},
   "outputs": [
    {
     "name": "stdout",
     "output_type": "stream",
     "text": [
      "6\n",
      "15\n"
     ]
    }
   ],
   "source": [
    "# Sum variable number of arguments\n",
    "def sum_numbers(*args):\n",
    "    total = 0\n",
    "    for num in args:\n",
    "        total += num\n",
    "    return total\n",
    "print(sum_numbers(1, 2, 3))\n",
    "print(sum_numbers(1, 2, 3, 4, 5))"
   ]
  },
  {
   "cell_type": "code",
   "execution_count": 12,
   "id": "7d90db69",
   "metadata": {},
   "outputs": [
    {
     "name": "stdout",
     "output_type": "stream",
     "text": [
      "name: Alice\n",
      "age: 20\n"
     ]
    }
   ],
   "source": [
    "# Print key-value pairs\n",
    "def print_info(**kwargs):\n",
    "    for key, value in kwargs.items():\n",
    "        print(f\"{key}: {value}\")\n",
    "print_info(name=\"Alice\", age=20)"
   ]
  },
  {
   "cell_type": "code",
   "execution_count": 13,
   "id": "bf1fca1a",
   "metadata": {},
   "outputs": [
    {
     "name": "stdout",
     "output_type": "stream",
     "text": [
      "10\n"
     ]
    }
   ],
   "source": [
    "# Lambda for doubling\n",
    "double = lambda x: x * 2\n",
    "print(double(5))"
   ]
  },
  {
   "cell_type": "code",
   "execution_count": 14,
   "id": "eae39e5d",
   "metadata": {},
   "outputs": [
    {
     "name": "stdout",
     "output_type": "stream",
     "text": [
      "Entered number: 4\n"
     ]
    }
   ],
   "source": [
    "# Get positive number\n",
    "def get_positive_number():\n",
    "    try:\n",
    "        number = int(input(\"Enter a positive number: \"))\n",
    "        if number <= 0:\n",
    "            print(\"Please enter a positive number!\")\n",
    "            return None\n",
    "        return number\n",
    "    except ValueError:\n",
    "        print(\"Please enter a valid number!\")\n",
    "        return None\n",
    "result = get_positive_number()\n",
    "if result is not None:\n",
    "    print(f\"Entered number: {result}\")"
   ]
  },
  {
   "cell_type": "code",
   "execution_count": 15,
   "id": "70236e26",
   "metadata": {},
   "outputs": [
    {
     "name": "stdout",
     "output_type": "stream",
     "text": [
      "Welcome to Python!\n"
     ]
    }
   ],
   "source": [
    "# Simple greeting\n",
    "def welcome():\n",
    "    print(\"Welcome to Python!\")\n",
    "welcome()"
   ]
  },
  {
   "cell_type": "code",
   "execution_count": 16,
   "id": "046689cb",
   "metadata": {},
   "outputs": [
    {
     "name": "stdout",
     "output_type": "stream",
     "text": [
      "Square of 5: 25\n"
     ]
    }
   ],
   "source": [
    "# Calculate square\n",
    "def square(num):\n",
    "    return num * num\n",
    "print(f\"Square of 5: {square(5)}\")"
   ]
  },
  {
   "cell_type": "code",
   "execution_count": 17,
   "id": "a76fb888",
   "metadata": {},
   "outputs": [
    {
     "name": "stdout",
     "output_type": "stream",
     "text": [
      "Hello, guest!\n",
      "Hello, Bob!\n"
     ]
    }
   ],
   "source": [
    "# Greeting with default name\n",
    "def greet(name=\"guest\"):\n",
    "    print(f\"Hello, {name}!\")\n",
    "greet()\n",
    "greet(\"Bob\")"
   ]
  },
  {
   "cell_type": "code",
   "execution_count": 18,
   "id": "c4bafdd7",
   "metadata": {},
   "outputs": [
    {
     "name": "stdout",
     "output_type": "stream",
     "text": [
      "6\n",
      "name: Bob\n",
      "age: 25\n"
     ]
    }
   ],
   "source": [
    "# Sum variable arguments\n",
    "def sum_all(*args):\n",
    "    return sum(args)\n",
    "print(sum_all(1, 2, 3))\n",
    "\n",
    "# Print info with kwargs\n",
    "def print_info(**kwargs):\n",
    "    for key, value in kwargs.items():\n",
    "        print(f\"{key}: {value}\")\n",
    "print_info(name=\"Bob\", age=25)"
   ]
  },
  {
   "cell_type": "code",
   "execution_count": 19,
   "id": "7a5db3e3",
   "metadata": {},
   "outputs": [
    {
     "name": "stdout",
     "output_type": "stream",
     "text": [
      "Circle perimeter: 25.12\n"
     ]
    }
   ],
   "source": [
    "# Calculate circle perimeter\n",
    "def circle_perimeter(radius):\n",
    "    return 2 * 3.14 * radius\n",
    "r = float(input(\"Enter radius: \"))\n",
    "print(f\"Circle perimeter: {circle_perimeter(r)}\")"
   ]
  },
  {
   "cell_type": "code",
   "execution_count": 20,
   "id": "ba964fe5",
   "metadata": {},
   "outputs": [
    {
     "name": "stdout",
     "output_type": "stream",
     "text": [
      "Sum of odd numbers from 1 to 6: 9\n"
     ]
    }
   ],
   "source": [
    "# Sum odd numbers\n",
    "def sum_odd(n):\n",
    "    total = 0\n",
    "    for i in range(1, n + 1):\n",
    "        if i % 2 != 0:\n",
    "            total += i\n",
    "    return total\n",
    "n = int(input(\"Enter number n: \"))\n",
    "print(f\"Sum of odd numbers from 1 to {n}: {sum_odd(n)}\")"
   ]
  },
  {
   "cell_type": "code",
   "execution_count": 21,
   "id": "c77f1b6c",
   "metadata": {},
   "outputs": [
    {
     "name": "stdout",
     "output_type": "stream",
     "text": [
      "89 is prime: True\n"
     ]
    }
   ],
   "source": [
    "# Check prime number\n",
    "def is_prime(n):\n",
    "    if n < 2:\n",
    "        return False\n",
    "    for i in range(2, n):\n",
    "        if n % i == 0:\n",
    "            return False\n",
    "    return True\n",
    "n = int(input(\"Enter number n: \"))\n",
    "print(f\"{n} is prime: {is_prime(n)}\")"
   ]
  },
  {
   "cell_type": "code",
   "execution_count": 22,
   "id": "b12328c4",
   "metadata": {},
   "outputs": [
    {
     "name": "stdout",
     "output_type": "stream",
     "text": [
      "Triangle area: 12.0\n"
     ]
    }
   ],
   "source": [
    "# Calculate triangle area\n",
    "def triangle_area(base, height):\n",
    "    return 0.5 * base * height\n",
    "base = float(input(\"Enter base: \"))\n",
    "height = float(input(\"Enter height: \"))\n",
    "print(f\"Triangle area: {triangle_area(base, height)}\")"
   ]
  },
  {
   "cell_type": "code",
   "execution_count": 23,
   "id": "94057b17",
   "metadata": {},
   "outputs": [
    {
     "name": "stdout",
     "output_type": "stream",
     "text": [
      "Number of primes from 1 to 7: 4\n"
     ]
    }
   ],
   "source": [
    "# Count prime numbers\n",
    "def is_prime(n):\n",
    "    if n < 2:\n",
    "        return False\n",
    "    for i in range(2, n):\n",
    "        if n % i == 0:\n",
    "            return False\n",
    "    return True\n",
    "\n",
    "def count_primes(n):\n",
    "    count = 0\n",
    "    for i in range(1, n + 1):\n",
    "        if is_prime(i):\n",
    "            count += 1\n",
    "    return count\n",
    "n = int(input(\"Enter number n: \"))\n",
    "print(f\"Number of primes from 1 to {n}: {count_primes(n)}\")"
   ]
  },
  {
   "cell_type": "code",
   "execution_count": null,
   "id": "cab02710",
   "metadata": {},
   "outputs": [],
   "source": []
  }
 ],
 "metadata": {
  "kernelspec": {
   "display_name": "machine_learning_advanced",
   "language": "python",
   "name": "python3"
  },
  "language_info": {
   "codemirror_mode": {
    "name": "ipython",
    "version": 3
   },
   "file_extension": ".py",
   "mimetype": "text/x-python",
   "name": "python",
   "nbconvert_exporter": "python",
   "pygments_lexer": "ipython3",
   "version": "3.11.13"
  }
 },
 "nbformat": 4,
 "nbformat_minor": 5
}
