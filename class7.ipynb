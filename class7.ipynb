{
 "cells": [
  {
   "cell_type": "code",
   "execution_count": 1,
   "id": "ffcc2071",
   "metadata": {},
   "outputs": [],
   "source": [
    "# Example lists\n",
    "fruits = [\"apple\", \"banana\", \"orange\"]\n",
    "numbers = [1, 2, 3, 4, 5]\n",
    "mixed = [1, \"hello\", True, [10, 20]]"
   ]
  },
  {
   "cell_type": "code",
   "execution_count": 2,
   "id": "a54ee8eb",
   "metadata": {},
   "outputs": [],
   "source": [
    "# Create lists\n",
    "empty_list = []\n",
    "numbers = [1, 2, 3, 4]\n",
    "fruits = [\"apple\", \"banana\", \"orange\"]"
   ]
  },
  {
   "cell_type": "code",
   "execution_count": 3,
   "id": "ca164bc9",
   "metadata": {},
   "outputs": [
    {
     "name": "stdout",
     "output_type": "stream",
     "text": [
      "apple\n",
      "orange\n"
     ]
    }
   ],
   "source": [
    "# Access list elements\n",
    "fruits = [\"apple\", \"banana\", \"orange\"]\n",
    "print(fruits[0])  # apple\n",
    "print(fruits[-1])  # orange"
   ]
  },
  {
   "cell_type": "code",
   "execution_count": 4,
   "id": "5b0fbdfd",
   "metadata": {},
   "outputs": [
    {
     "name": "stdout",
     "output_type": "stream",
     "text": [
      "[1, 2, 3]\n",
      "[0, 2, 4]\n",
      "[4, 3, 2, 1, 0]\n"
     ]
    }
   ],
   "source": [
    "# List slicing\n",
    "numbers = [0, 1, 2, 3, 4]\n",
    "print(numbers[1:4])  # [1, 2, 3]\n",
    "print(numbers[::2])  # [0, 2, 4]\n",
    "print(numbers[::-1])  # [4, 3, 2, 1, 0]"
   ]
  },
  {
   "cell_type": "code",
   "execution_count": 5,
   "id": "f278557d",
   "metadata": {},
   "outputs": [
    {
     "name": "stdout",
     "output_type": "stream",
     "text": [
      "['apple', 'strawberry', 'orange']\n"
     ]
    }
   ],
   "source": [
    "# Modify list element\n",
    "fruits = [\"apple\", \"banana\", \"orange\"]\n",
    "fruits[1] = \"strawberry\"\n",
    "print(fruits)  # [\"apple\", \"strawberry\", \"orange\"]"
   ]
  },
  {
   "cell_type": "code",
   "execution_count": 6,
   "id": "a34d057f",
   "metadata": {},
   "outputs": [
    {
     "name": "stdout",
     "output_type": "stream",
     "text": [
      "['apple', 'strawberry', 'banana', 'orange']\n"
     ]
    }
   ],
   "source": [
    "# Add elements\n",
    "fruits = [\"apple\", \"banana\"]\n",
    "fruits.append(\"orange\")  # [\"apple\", \"banana\", \"orange\"]\n",
    "fruits.insert(1, \"strawberry\")  # [\"apple\", \"strawberry\", \"banana\", \"orange\"]\n",
    "print(fruits)"
   ]
  },
  {
   "cell_type": "code",
   "execution_count": 7,
   "id": "430ccbb6",
   "metadata": {},
   "outputs": [
    {
     "name": "stdout",
     "output_type": "stream",
     "text": [
      "[]\n"
     ]
    }
   ],
   "source": [
    "# Remove elements\n",
    "fruits = [\"apple\", \"banana\", \"orange\"]\n",
    "fruits.remove(\"banana\")  # [\"apple\", \"orange\"]\n",
    "last_fruit = fruits.pop()  # last_fruit = \"orange\", fruits = [\"apple\"]\n",
    "fruits.clear()  # []\n",
    "print(fruits)"
   ]
  },
  {
   "cell_type": "code",
   "execution_count": 8,
   "id": "0836a465",
   "metadata": {},
   "outputs": [
    {
     "name": "stdout",
     "output_type": "stream",
     "text": [
      "4\n",
      "2\n",
      "1\n"
     ]
    }
   ],
   "source": [
    "# List methods\n",
    "numbers = [3, 1, 4, 1]\n",
    "numbers.sort()  # [1, 1, 3, 4]\n",
    "numbers.reverse()  # [4, 3, 1, 1]\n",
    "print(len(numbers))  # 4\n",
    "print(numbers.count(1))  # 2\n",
    "print(numbers.index(3))  # 1"
   ]
  },
  {
   "cell_type": "code",
   "execution_count": 9,
   "id": "86ce363c",
   "metadata": {},
   "outputs": [
    {
     "name": "stdout",
     "output_type": "stream",
     "text": [
      "[1, 4, 9, 16]\n",
      "[2, 4]\n"
     ]
    }
   ],
   "source": [
    "# Squares and even numbers\n",
    "numbers = [1, 2, 3, 4]\n",
    "squares = [x**2 for x in numbers]  # [1, 4, 9, 16]\n",
    "evens = [x for x in numbers if x % 2 == 0]  # [2, 4]\n",
    "print(squares)\n",
    "print(evens)"
   ]
  },
  {
   "cell_type": "code",
   "execution_count": 10,
   "id": "7c75660d",
   "metadata": {},
   "outputs": [
    {
     "name": "stdout",
     "output_type": "stream",
     "text": [
      "Invalid index!\n"
     ]
    }
   ],
   "source": [
    "# Handle index error\n",
    "try:\n",
    "    numbers = [1, 2, 3]\n",
    "    index = int(input(\"Enter index: \"))\n",
    "    print(f\"Element: {numbers[index]}\")\n",
    "except IndexError:\n",
    "    print(\"Invalid index!\")\n",
    "except ValueError:\n",
    "    print(\"Please enter a valid integer!\")"
   ]
  },
  {
   "cell_type": "code",
   "execution_count": 11,
   "id": "ed811103",
   "metadata": {},
   "outputs": [
    {
     "name": "stdout",
     "output_type": "stream",
     "text": [
      "First fruit: apple\n",
      "Last fruit: strawberry\n",
      "Slice 1 to 3: ['banana', 'orange']\n"
     ]
    }
   ],
   "source": [
    "# Access list elements\n",
    "fruits = [\"apple\", \"banana\", \"orange\", \"strawberry\"]\n",
    "print(f\"First fruit: {fruits[0]}\")\n",
    "print(f\"Last fruit: {fruits[-1]}\")\n",
    "print(f\"Slice 1 to 3: {fruits[1:3]}\")"
   ]
  },
  {
   "cell_type": "code",
   "execution_count": 12,
   "id": "8d20e858",
   "metadata": {},
   "outputs": [
    {
     "name": "stdout",
     "output_type": "stream",
     "text": [
      "['white', 'red', 'yellow', 'blue']\n"
     ]
    }
   ],
   "source": [
    "# Modify and add elements\n",
    "colors = [\"red\", \"blue\"]\n",
    "colors[1] = \"yellow\"  # [\"red\", \"yellow\"]\n",
    "colors.append(\"blue\")  # [\"red\", \"yellow\", \"blue\"]\n",
    "colors.insert(0, \"white\")  # [\"white\", \"red\", \"yellow\", \"blue\"]\n",
    "print(colors)"
   ]
  },
  {
   "cell_type": "code",
   "execution_count": 13,
   "id": "189ffb45",
   "metadata": {},
   "outputs": [
    {
     "name": "stdout",
     "output_type": "stream",
     "text": [
      "Count of 6: 2\n",
      "Index of 8: 3\n"
     ]
    }
   ],
   "source": [
    "# Sort and count\n",
    "scores = [8, 6, 9, 6, 7]\n",
    "scores.sort()  # [6, 6, 7, 8, 9]\n",
    "print(f\"Count of 6: {scores.count(6)}\")\n",
    "print(f\"Index of 8: {scores.index(8)}\")"
   ]
  },
  {
   "cell_type": "code",
   "execution_count": 14,
   "id": "739dc070",
   "metadata": {},
   "outputs": [
    {
     "name": "stdout",
     "output_type": "stream",
     "text": [
      "Even numbers: [2, 4, 6]\n"
     ]
    }
   ],
   "source": [
    "# Filter even numbers\n",
    "numbers = [1, 2, 3, 4, 5, 6]\n",
    "evens = [x for x in numbers if x % 2 == 0]\n",
    "print(f\"Even numbers: {evens}\")"
   ]
  },
  {
   "cell_type": "code",
   "execution_count": 15,
   "id": "c3e126be",
   "metadata": {},
   "outputs": [
    {
     "name": "stdout",
     "output_type": "stream",
     "text": [
      "List: [1, 2, 3, 4, 5]\n",
      "Sum: 15\n"
     ]
    }
   ],
   "source": [
    "# Sum list\n",
    "try:\n",
    "    n = int(input(\"Enter number n: \"))\n",
    "    numbers = list(range(1, n + 1))\n",
    "    total = sum(numbers)\n",
    "    print(f\"List: {numbers}\")\n",
    "    print(f\"Sum: {total}\")\n",
    "except ValueError:\n",
    "    print(\"Please enter a valid integer!\")"
   ]
  },
  {
   "cell_type": "code",
   "execution_count": 16,
   "id": "676a12f7",
   "metadata": {},
   "outputs": [
    {
     "name": "stdout",
     "output_type": "stream",
     "text": [
      "Prime numbers: [2, 3, 5]\n"
     ]
    }
   ],
   "source": [
    "# Filter prime numbers\n",
    "def is_prime(n):\n",
    "    if n < 2:\n",
    "        return False\n",
    "    for i in range(2, n):\n",
    "        if n % i == 0:\n",
    "            return False\n",
    "    return True\n",
    "\n",
    "try:\n",
    "    n = int(input(\"Enter number n: \"))\n",
    "    numbers = list(range(1, n + 1))\n",
    "    primes = [x for x in numbers if is_prime(x)]\n",
    "    print(f\"Prime numbers: {primes}\")\n",
    "except ValueError:\n",
    "    print(\"Please enter a valid integer!\")"
   ]
  },
  {
   "cell_type": "code",
   "execution_count": 17,
   "id": "aefa563b",
   "metadata": {},
   "outputs": [
    {
     "name": "stdout",
     "output_type": "stream",
     "text": [
      "Normalized list: [1.0]\n"
     ]
    }
   ],
   "source": [
    "# Normalize list\n",
    "try:\n",
    "    numbers = [float(x) for x in input(\"Enter numbers (comma-separated): \").split(\",\")]\n",
    "    if numbers:\n",
    "        max_val = max(numbers)\n",
    "        normalized = [x / max_val for x in numbers]\n",
    "        print(f\"Normalized list: {normalized}\")\n",
    "    else:\n",
    "        print(\"Empty list!\")\n",
    "except ValueError:\n",
    "    print(\"Please enter valid numbers!\")"
   ]
  },
  {
   "cell_type": "code",
   "execution_count": 18,
   "id": "5076aed4",
   "metadata": {},
   "outputs": [
    {
     "name": "stdout",
     "output_type": "stream",
     "text": [
      "Even count: 0\n",
      "Odd count: 1\n"
     ]
    }
   ],
   "source": [
    "# Count even and odd\n",
    "try:\n",
    "    numbers = [int(x) for x in input(\"Enter numbers (comma-separated): \").split(\",\")]\n",
    "    even_count = len([x for x in numbers if x % 2 == 0])\n",
    "    odd_count = len([x for x in numbers if x % 2 != 0])\n",
    "    print(f\"Even count: {even_count}\")\n",
    "    print(f\"Odd count: {odd_count}\")\n",
    "except ValueError:\n",
    "    print(\"Please enter valid integers!\")"
   ]
  }
 ],
 "metadata": {
  "kernelspec": {
   "display_name": "machine_learning_advanced",
   "language": "python",
   "name": "python3"
  },
  "language_info": {
   "codemirror_mode": {
    "name": "ipython",
    "version": 3
   },
   "file_extension": ".py",
   "mimetype": "text/x-python",
   "name": "python",
   "nbconvert_exporter": "python",
   "pygments_lexer": "ipython3",
   "version": "3.11.13"
  }
 },
 "nbformat": 4,
 "nbformat_minor": 5
}
