{
 "cells": [
  {
   "cell_type": "code",
   "execution_count": null,
   "id": "926fe2f0",
   "metadata": {},
   "outputs": [],
   "source": [
    "# Example tuples\n",
    "point = (3, 4)  # Coordinates\n",
    "colors = (\"red\", \"green\", \"red\")  # Allows duplicates\n",
    "empty_tuple = ()  # Empty tuple\n",
    "single_item = (42,)  # Single-item tuple"
   ]
  },
  {
   "cell_type": "code",
   "execution_count": null,
   "id": "ea1f0d9f",
   "metadata": {},
   "outputs": [],
   "source": [
    "# Create tuples\n",
    "numbers = (1, 2, 3)\n",
    "mixed = (1, \"hello\", True)\n",
    "tuple_from_list = tuple([1, 2, 3])"
   ]
  },
  {
   "cell_type": "code",
   "execution_count": null,
   "id": "3b6d20e6",
   "metadata": {},
   "outputs": [],
   "source": [
    "# Access tuple elements\n",
    "fruits = (\"apple\", \"banana\", \"orange\")\n",
    "print(fruits[0])  # apple\n",
    "print(fruits[-1])  # orange"
   ]
  },
  {
   "cell_type": "code",
   "execution_count": null,
   "id": "5aab5637",
   "metadata": {},
   "outputs": [],
   "source": [
    "# Tuple slicing\n",
    "numbers = (0, 1, 2, 3, 4)\n",
    "print(numbers[1:4])  # (1, 2, 3)\n",
    "print(numbers[::2])  # (0, 2, 4)\n",
    "print(numbers[::-1])  # (4, 3, 2, 1, 0)"
   ]
  },
  {
   "cell_type": "code",
   "execution_count": null,
   "id": "43645a20",
   "metadata": {},
   "outputs": [],
   "source": [
    "# Tuple methods\n",
    "numbers = (1, 2, 2, 3)\n",
    "print(len(numbers))  # 4\n",
    "print(numbers.count(2))  # 2\n",
    "print(numbers.index(3))  # 3\n",
    "print(2 in numbers)  # True"
   ]
  },
  {
   "cell_type": "code",
   "execution_count": null,
   "id": "bfeef326",
   "metadata": {},
   "outputs": [],
   "source": [
    "# Iterate over tuple\n",
    "fruits = (\"apple\", \"banana\", \"orange\")\n",
    "for fruit in fruits:\n",
    "    print(f\"Fruit: {fruit}\")"
   ]
  },
  {
   "cell_type": "code",
   "execution_count": null,
   "id": "fb7e76f0",
   "metadata": {},
   "outputs": [],
   "source": [
    "# Handle errors\n",
    "try:\n",
    "    numbers = (1, 2, 3)\n",
    "    index = int(input(\"Enter index: \"))\n",
    "    print(f\"Element: {numbers[index]}\")\n",
    "except IndexError:\n",
    "    print(\"Invalid index!\")\n",
    "except ValueError:\n",
    "    print(\"Please enter a valid integer!\")"
   ]
  },
  {
   "cell_type": "code",
   "execution_count": null,
   "id": "9ce381c1",
   "metadata": {},
   "outputs": [],
   "source": [
    "# Print fruits\n",
    "fruits = (\"apple\", \"banana\", \"orange\", \"strawberry\")\n",
    "for fruit in fruits:\n",
    "    print(fruit)"
   ]
  },
  {
   "cell_type": "code",
   "execution_count": null,
   "id": "e2b1f6d5",
   "metadata": {},
   "outputs": [],
   "source": [
    "# Combine tuples\n",
    "tuple1 = (1, 2)\n",
    "tuple2 = (3, 4)\n",
    "combined = tuple1 + tuple2\n",
    "print(f\"Combined tuple: {combined}\")"
   ]
  },
  {
   "cell_type": "code",
   "execution_count": null,
   "id": "e289f716",
   "metadata": {},
   "outputs": [],
   "source": [
    "# Count frequency\n",
    "try:\n",
    "    numbers = tuple(map(int, input(\"Enter numbers (space-separated): \").split()))\n",
    "    target = int(input(\"Enter number to count: \"))\n",
    "    count = numbers.count(target)\n",
    "    print(f\"Number {target} appears {count} times\")\n",
    "except ValueError:\n",
    "    print(\"Please enter valid integers!\")"
   ]
  },
  {
   "cell_type": "code",
   "execution_count": null,
   "id": "8022ceb5",
   "metadata": {},
   "outputs": [],
   "source": [
    "# Calculate distance\n",
    "import math\n",
    "\n",
    "def distance_from_origin(point):\n",
    "    x, y = point\n",
    "    return math.sqrt(x**2 + y**2)\n",
    "\n",
    "try:\n",
    "    point = (float(input(\"Enter x: \")), float(input(\"Enter y: \")))\n",
    "    distance = distance_from_origin(point)\n",
    "    print(f\"Distance to origin: {distance}\")\n",
    "except ValueError:\n",
    "    print(\"Please enter valid numbers!\")"
   ]
  },
  {
   "cell_type": "code",
   "execution_count": null,
   "id": "27448b9c",
   "metadata": {},
   "outputs": [],
   "source": [
    "# Sum and product\n",
    "try:\n",
    "    numbers = tuple(map(int, input(\"Enter numbers (space-separated): \").split()))\n",
    "    total_sum = sum(numbers)\n",
    "    product = 1\n",
    "    for num in numbers:\n",
    "        product *= num\n",
    "    result = (total_sum, product)\n",
    "    print(f\"Result (sum, product): {result}\")\n",
    "except ValueError:\n",
    "    print(\"Please enter valid integers!\")"
   ]
  },
  {
   "cell_type": "code",
   "execution_count": null,
   "id": "899018bd",
   "metadata": {},
   "outputs": [],
   "source": [
    "# Average feature values\n",
    "try:\n",
    "    features = tuple((i, float(input(f\"Enter value for feature {i}: \"))) for i in range(1, 4))\n",
    "    values = [value for _, value in features]\n",
    "    average = sum(values) / len(values)\n",
    "    print(f\"Features: {features}\")\n",
    "    print(f\"Average value: {average}\")\n",
    "except ValueError:\n",
    "    print(\"Please enter valid numbers!\")"
   ]
  }
 ],
 "metadata": {
  "kernelspec": {
   "display_name": "machine_learning_advanced",
   "language": "python",
   "name": "python3"
  },
  "language_info": {
   "name": "python",
   "version": "3.9.23"
  }
 },
 "nbformat": 4,
 "nbformat_minor": 5
}
