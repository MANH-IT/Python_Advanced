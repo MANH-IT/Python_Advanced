{
 "cells": [
  {
   "cell_type": "code",
   "execution_count": 1,
   "id": "5fdef1a2",
   "metadata": {},
   "outputs": [
    {
     "name": "stdout",
     "output_type": "stream",
     "text": [
      "Hello, Python!\n"
     ]
    }
   ],
   "source": [
    "# Print a greeting message\n",
    "print(\"Hello, Python!\")"
   ]
  },
  {
   "cell_type": "code",
   "execution_count": 2,
   "id": "aead598d",
   "metadata": {},
   "outputs": [
    {
     "name": "stdout",
     "output_type": "stream",
     "text": [
      "<class 'int'>\n",
      "<class 'str'>\n"
     ]
    }
   ],
   "source": [
    "# Check data type\n",
    "x = 10\n",
    "print(type(x))  # Output: <class 'int'>\n",
    "\n",
    "y = \"Hello\"\n",
    "print(type(y))  # Output: <class 'str'>"
   ]
  },
  {
   "cell_type": "code",
   "execution_count": 3,
   "id": "e3e81544",
   "metadata": {},
   "outputs": [
    {
     "name": "stdout",
     "output_type": "stream",
     "text": [
      "13\n",
      "True\n"
     ]
    }
   ],
   "source": [
    "# Arithmetic and comparison operators \n",
    "a, b = 10, 3 \n",
    "print(a + b) # Output: 13\n",
    "print(a > b) # Output: True"
   ]
  },
  {
   "cell_type": "code",
   "execution_count": 5,
   "id": "66683d90",
   "metadata": {},
   "outputs": [
    {
     "name": "stdout",
     "output_type": "stream",
     "text": [
      "A, B!!!"
     ]
    }
   ],
   "source": [
    "# Customize print with sep and end \n",
    "print(\"A\", \"B\", sep=\", \", end=\"!!!\") # Output: A, B!!!"
   ]
  },
  {
   "cell_type": "code",
   "execution_count": 2,
   "id": "db2f9653",
   "metadata": {},
   "outputs": [
    {
     "name": "stdout",
     "output_type": "stream",
     "text": [
      "123 <class 'int'>\n",
      "123.0 <class 'str'>\n"
     ]
    }
   ],
   "source": [
    "# Type conversion\n",
    "\n",
    "x = \"123\"\n",
    "y = int(x) # Convert to int\n",
    "z = float(x) # Convert to float\n",
    "\n",
    "print(y, type(y)) # Output: 123 <class 'int'>\n",
    "print(z, type(x)) # Output: 123.0 <class 'float'>"
   ]
  },
  {
   "cell_type": "code",
   "execution_count": 4,
   "id": "40e89f96",
   "metadata": {},
   "outputs": [
    {
     "name": "stdout",
     "output_type": "stream",
     "text": [
      "Please enter a valid number! \n"
     ]
    }
   ],
   "source": [
    "# Handle invalid input \n",
    "try: \n",
    "    num = int(input(\"Enter a number: \"))\n",
    "    print(f\"Valid number: {num}\")\n",
    "except ValueError: \n",
    "    print(\"Please enter a valid number! \")"
   ]
  },
  {
   "cell_type": "code",
   "execution_count": 5,
   "id": "3849c09e",
   "metadata": {},
   "outputs": [
    {
     "name": "stdout",
     "output_type": "stream",
     "text": [
      "Adult\n"
     ]
    }
   ],
   "source": [
    "# Conditional structure\n",
    "age = 18 \n",
    "if age >= 18: \n",
    "    print(\"Adult\")\n",
    "elif age >= 13:\n",
    "    print(\"Teenager\")\n",
    "else: \n",
    "    print(\"Child\")"
   ]
  },
  {
   "cell_type": "code",
   "execution_count": 6,
   "id": "cd4ea14f",
   "metadata": {},
   "outputs": [
    {
     "name": "stdout",
     "output_type": "stream",
     "text": [
      "Area: 6.0\n"
     ]
    }
   ],
   "source": [
    "# Calculate rectangle area \n",
    "\n",
    "length = float(input(\"Enter length: \"))\n",
    "width = float(input(\"Enter width: \"))\n",
    "area = length * width\n",
    "print(f\"Area: {area}\")"
   ]
  },
  {
   "cell_type": "code",
   "execution_count": 7,
   "id": "e4d4ce47",
   "metadata": {},
   "outputs": [
    {
     "name": "stdout",
     "output_type": "stream",
     "text": [
      "Temperature: 122.0\n"
     ]
    }
   ],
   "source": [
    "# Convert Celsius to Fahrenheit\n",
    "\n",
    "celsius = float(input(\"Enter temperature :\"))\n",
    "fahrenheit = celsius * 9/5 + 32 \n",
    "print(f\"Temperature: {fahrenheit}\")"
   ]
  },
  {
   "cell_type": "code",
   "execution_count": 8,
   "id": "75c94375",
   "metadata": {},
   "outputs": [
    {
     "name": "stdout",
     "output_type": "stream",
     "text": [
      "5 is odd\n"
     ]
    }
   ],
   "source": [
    "# Check even or odd \n",
    "number = int(input(\"Enter a number: \"))\n",
    "print(f\"{number} is {'even' if number % 2 == 0 else 'odd'}\")"
   ]
  },
  {
   "cell_type": "markdown",
   "id": "4c50138b",
   "metadata": {},
   "source": []
  },
  {
   "cell_type": "code",
   "execution_count": 9,
   "id": "fb65cb76",
   "metadata": {},
   "outputs": [
    {
     "name": "stdout",
     "output_type": "stream",
     "text": [
      "BMI: 0.0\n",
      "Classification: Underweight\n"
     ]
    }
   ],
   "source": [
    "# Calculate BMI and classify\n",
    "\n",
    "weight = float(input(\"Enter weight (kg): \"))\n",
    "height = float(input(\"Enter height (m): \"))\n",
    "bmi = weight / (height ** 2)\n",
    "print(f\"BMI: {round(bmi, 2)}\")\n",
    "if bmi < 18.5:\n",
    "    print(\"Classification: Underweight\")\n",
    "elif 18.5 <= bmi <= 24.9:\n",
    "    print(\"Classification: Normal\")\n",
    "elif 25 <= bmi <= 29.9:\n",
    "    print(\"Classification: Overweight\")\n",
    "else:\n",
    "    print(\"Classification: Obese\")"
   ]
  },
  {
   "cell_type": "code",
   "execution_count": null,
   "id": "76678533",
   "metadata": {},
   "outputs": [],
   "source": []
  },
  {
   "cell_type": "code",
   "execution_count": null,
   "id": "83374cee",
   "metadata": {},
   "outputs": [],
   "source": []
  },
  {
   "cell_type": "code",
   "execution_count": null,
   "id": "d8901ef2",
   "metadata": {},
   "outputs": [],
   "source": []
  },
  {
   "cell_type": "code",
   "execution_count": null,
   "id": "53c54d6c",
   "metadata": {},
   "outputs": [],
   "source": []
  },
  {
   "cell_type": "code",
   "execution_count": null,
   "id": "a65fe214",
   "metadata": {},
   "outputs": [],
   "source": [
    "a = 10\n",
    "b = 5\n",
    "print(\"Sum\")"
   ]
  }
 ],
 "metadata": {
  "kernelspec": {
   "display_name": "machine_learning_advanced",
   "language": "python",
   "name": "python3"
  },
  "language_info": {
   "codemirror_mode": {
    "name": "ipython",
    "version": 3
   },
   "file_extension": ".py",
   "mimetype": "text/x-python",
   "name": "python",
   "nbconvert_exporter": "python",
   "pygments_lexer": "ipython3",
   "version": "3.11.13"
  }
 },
 "nbformat": 4,
 "nbformat_minor": 5
}
