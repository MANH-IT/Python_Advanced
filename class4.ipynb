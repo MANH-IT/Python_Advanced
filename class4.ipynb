{
 "cells": [
  {
   "cell_type": "code",
   "execution_count": 5,
   "id": "b72d1fa4",
   "metadata": {},
   "outputs": [
    {
     "name": "stdout",
     "output_type": "stream",
     "text": [
      "Number: 0\n",
      "Number: 1\n",
      "Number: 2\n",
      "Number: 3\n",
      "Number: 4\n"
     ]
    }
   ],
   "source": [
    "# Loop through range \n",
    "\n",
    "for i in range(5): # From 0 to 4\n",
    "    print(f\"Number: {i}\")"
   ]
  },
  {
   "cell_type": "code",
   "execution_count": 6,
   "id": "20145ae6",
   "metadata": {},
   "outputs": [
    {
     "name": "stdout",
     "output_type": "stream",
     "text": [
      "Count: 1\n",
      "Count: 2\n",
      "Count: 3\n",
      "Count: 4\n",
      "Count: 5\n"
     ]
    }
   ],
   "source": [
    "# Countdown with while\n",
    "count = 1\n",
    "while count <= 5: \n",
    "    print(f\"Count: {count}\")\n",
    "    count += 1"
   ]
  },
  {
   "cell_type": "code",
   "execution_count": 7,
   "id": "6c043466",
   "metadata": {},
   "outputs": [
    {
     "name": "stdout",
     "output_type": "stream",
     "text": [
      "Number: 0\n",
      "Number: 1\n",
      "Number: 2\n",
      "Number: 3\n",
      "Number: 4\n"
     ]
    }
   ],
   "source": [
    "# Break example \n",
    "\n",
    "for i in range(10):\n",
    "    if i == 5:\n",
    "        break\n",
    "    print(f\"Number: {i}\")"
   ]
  },
  {
   "cell_type": "code",
   "execution_count": 8,
   "id": "808388fe",
   "metadata": {},
   "outputs": [
    {
     "name": "stdout",
     "output_type": "stream",
     "text": [
      "Number: 0\n",
      "Number: 1\n",
      "Number: 3\n",
      "Number: 4\n"
     ]
    }
   ],
   "source": [
    "# Continue example\n",
    "for i in range(5):\n",
    "    if i == 2: \n",
    "        continue \n",
    "    print(f\"Number: {i}\")"
   ]
  },
  {
   "cell_type": "code",
   "execution_count": 9,
   "id": "a731ffd0",
   "metadata": {},
   "outputs": [
    {
     "name": "stdout",
     "output_type": "stream",
     "text": [
      "You entered: 4\n"
     ]
    }
   ],
   "source": [
    "# Handle invalid input\n",
    "while True:\n",
    "    try:\n",
    "        number = int(input(\"Enter a positive number: \"))\n",
    "        if number > 0:\n",
    "            break\n",
    "        print(\"Please enter a positive number!\")\n",
    "    except ValueError:\n",
    "        print(\"Please enter a valid number!\")\n",
    "print(f\"You entered: {number}\")"
   ]
  },
  {
   "cell_type": "code",
   "execution_count": 10,
   "id": "cc9aa9f7",
   "metadata": {},
   "outputs": [
    {
     "name": "stdout",
     "output_type": "stream",
     "text": [
      "4 x 1 = 4\n",
      "4 x 2 = 8\n",
      "4 x 3 = 12\n",
      "4 x 4 = 16\n",
      "4 x 5 = 20\n",
      "4 x 6 = 24\n",
      "4 x 7 = 28\n",
      "4 x 8 = 32\n",
      "4 x 9 = 36\n",
      "4 x 10 = 40\n"
     ]
    }
   ],
   "source": [
    "# Multiplication table\n",
    "number = int(input(\"Enter a number (1-9): \"))\n",
    "for i in range(1, 11):\n",
    "    print(f\"{number} x {i} = {number * i}\")"
   ]
  },
  {
   "cell_type": "code",
   "execution_count": 11,
   "id": "26736f41",
   "metadata": {},
   "outputs": [
    {
     "name": "stdout",
     "output_type": "stream",
     "text": [
      "Sum from 1 to 5: 15\n",
      "Sum from 1 to 7: 28\n"
     ]
    }
   ],
   "source": [
    "# Sum from 1 to n\n",
    "n = int(input(\"Enter number n: \"))\n",
    "total = 0\n",
    "for i in range(1, n + 1):\n",
    "    total += i\n",
    "print(f\"Sum from 1 to {n}: {total}\")# Sum from 1 to n\n",
    "n = int(input(\"Enter number n: \"))\n",
    "total = 0\n",
    "for i in range(1, n + 1):\n",
    "    total += i\n",
    "print(f\"Sum from 1 to {n}: {total}\")"
   ]
  },
  {
   "cell_type": "code",
   "execution_count": 12,
   "id": "61cdd191",
   "metadata": {},
   "outputs": [
    {
     "name": "stdout",
     "output_type": "stream",
     "text": [
      "54\n",
      "53\n",
      "52\n",
      "51\n",
      "50\n",
      "49\n",
      "48\n",
      "47\n",
      "46\n",
      "45\n",
      "44\n",
      "43\n",
      "42\n",
      "41\n",
      "40\n",
      "39\n",
      "38\n",
      "37\n",
      "36\n",
      "35\n",
      "34\n",
      "33\n",
      "32\n",
      "31\n",
      "30\n",
      "29\n",
      "28\n",
      "27\n",
      "26\n",
      "25\n",
      "24\n",
      "23\n",
      "22\n",
      "21\n",
      "20\n",
      "19\n",
      "18\n",
      "17\n",
      "16\n",
      "15\n",
      "14\n",
      "13\n",
      "12\n",
      "11\n",
      "10\n",
      "9\n",
      "8\n",
      "7\n",
      "6\n",
      "5\n",
      "4\n",
      "3\n",
      "2\n",
      "1\n",
      "0\n"
     ]
    }
   ],
   "source": [
    "# Countdown\n",
    "n = int(input(\"Enter positive number n: \"))\n",
    "while n >= 0:\n",
    "    print(n)\n",
    "    n -= 1"
   ]
  },
  {
   "cell_type": "code",
   "execution_count": 13,
   "id": "6675d23d",
   "metadata": {},
   "outputs": [
    {
     "name": "stdout",
     "output_type": "stream",
     "text": [
      "6 is not prime\n"
     ]
    }
   ],
   "source": [
    "# Check prime number\n",
    "n = int(input(\"Enter number n: \"))\n",
    "is_prime = True\n",
    "if n < 2:\n",
    "    is_prime = False\n",
    "else:\n",
    "    for i in range(2, n):\n",
    "        if n % i == 0:\n",
    "            is_prime = False\n",
    "            break\n",
    "print(f\"{n} {'is prime' if is_prime else 'is not prime'}\")"
   ]
  },
  {
   "cell_type": "code",
   "execution_count": 14,
   "id": "8f9d1d74",
   "metadata": {},
   "outputs": [
    {
     "name": "stdout",
     "output_type": "stream",
     "text": [
      "*\n",
      "**\n",
      "***\n",
      "****\n"
     ]
    }
   ],
   "source": [
    "# Print star triangle\n",
    "n = int(input(\"Enter number of rows: \"))\n",
    "for i in range(1, n + 1):\n",
    "    print(\"*\" * i)"
   ]
  },
  {
   "cell_type": "code",
   "execution_count": 15,
   "id": "d5496646",
   "metadata": {},
   "outputs": [
    {
     "name": "stdout",
     "output_type": "stream",
     "text": [
      "Factorial of 5: 120\n"
     ]
    }
   ],
   "source": [
    "# Calculate factorial\n",
    "n = int(input(\"Enter number n: \"))\n",
    "factorial = 1\n",
    "for i in range(1, n + 1):\n",
    "    factorial *= i\n",
    "print(f\"Factorial of {n}: {factorial}\")"
   ]
  },
  {
   "cell_type": "code",
   "execution_count": 16,
   "id": "f77df44a",
   "metadata": {},
   "outputs": [
    {
     "name": "stdout",
     "output_type": "stream",
     "text": [
      "Number of even numbers: 1\n"
     ]
    }
   ],
   "source": [
    "# Count even numbers\n",
    "try:\n",
    "    numbers = input(\"Enter numbers (comma-separated): \")\n",
    "    number_list = [int(x) for x in numbers.split(\",\")]\n",
    "    count_even = 0\n",
    "    for num in number_list:\n",
    "        if num % 2 == 0:\n",
    "            count_even += 1\n",
    "    print(f\"Number of even numbers: {count_even}\")\n",
    "except ValueError:\n",
    "    print(\"Please enter valid numbers!\")"
   ]
  }
 ],
 "metadata": {
  "kernelspec": {
   "display_name": "machine_learning_advanced",
   "language": "python",
   "name": "python3"
  },
  "language_info": {
   "codemirror_mode": {
    "name": "ipython",
    "version": 3
   },
   "file_extension": ".py",
   "mimetype": "text/x-python",
   "name": "python",
   "nbconvert_exporter": "python",
   "pygments_lexer": "ipython3",
   "version": "3.11.13"
  }
 },
 "nbformat": 4,
 "nbformat_minor": 5
}
