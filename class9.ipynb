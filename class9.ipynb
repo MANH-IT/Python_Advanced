{
 "cells": [
  {
   "cell_type": "code",
   "execution_count": 15,
   "id": "24701171",
   "metadata": {},
   "outputs": [
    {
     "name": "stdout",
     "output_type": "stream",
     "text": [
      "{'name': 'Alice', 'age': 20, 'grade': 8.5}\n"
     ]
    }
   ],
   "source": [
    "# Example dictionary\n",
    "student = {\"name\": \"Alice\", \"age\": 20, \"grade\": 8.5}\n",
    "print(student)"
   ]
  },
  {
   "cell_type": "code",
   "execution_count": 16,
   "id": "7df329ef",
   "metadata": {},
   "outputs": [],
   "source": [
    "# Create dictionaries\n",
    "empty_dict = {}\n",
    "person = {\"name\": \"Bob\", \"city\": \"Hanoi\"}\n",
    "dict_from_list = dict([(\"key1\", \"value1\"), (\"key2\", \"value2\")])"
   ]
  },
  {
   "cell_type": "code",
   "execution_count": 17,
   "id": "27fb1996",
   "metadata": {},
   "outputs": [
    {
     "name": "stdout",
     "output_type": "stream",
     "text": [
      "Alice\n",
      "20\n",
      "0\n"
     ]
    }
   ],
   "source": [
    "# Access dictionary\n",
    "student = {\"name\": \"Alice\", \"age\": 20}\n",
    "print(student[\"name\"])  # Alice\n",
    "print(student.get(\"age\"))  # 20\n",
    "print(student.get(\"score\", 0))  # 0"
   ]
  },
  {
   "cell_type": "code",
   "execution_count": 18,
   "id": "dfafce5f",
   "metadata": {},
   "outputs": [
    {
     "name": "stdout",
     "output_type": "stream",
     "text": [
      "{'name': 'Alice', 'age': 21}\n"
     ]
    }
   ],
   "source": [
    "# Modify value\n",
    "student = {\"name\": \"Alice\", \"age\": 20}\n",
    "student[\"age\"] = 21\n",
    "print(student)"
   ]
  },
  {
   "cell_type": "code",
   "execution_count": 19,
   "id": "376373cc",
   "metadata": {},
   "outputs": [
    {
     "name": "stdout",
     "output_type": "stream",
     "text": [
      "{'name': 'Alice', 'age': 21}\n"
     ]
    }
   ],
   "source": [
    "# Modify value\n",
    "student = {\"name\": \"Alice\", \"age\": 20}\n",
    "student[\"age\"] = 21\n",
    "print(student)"
   ]
  },
  {
   "cell_type": "code",
   "execution_count": 20,
   "id": "734b6657",
   "metadata": {},
   "outputs": [
    {
     "name": "stdout",
     "output_type": "stream",
     "text": [
      "{'name': 'Alice', 'age': 21, 'grade': 8.5}\n"
     ]
    }
   ],
   "source": [
    "# Add key-value pair\n",
    "student[\"grade\"] = 8.5\n",
    "print(student)"
   ]
  },
  {
   "cell_type": "code",
   "execution_count": 21,
   "id": "b6dc025e",
   "metadata": {},
   "outputs": [
    {
     "name": "stdout",
     "output_type": "stream",
     "text": [
      "{}\n"
     ]
    }
   ],
   "source": [
    "# Remove key-value pairs\n",
    "student = {\"name\": \"Alice\", \"age\": 20, \"grade\": 8.5}\n",
    "student.pop(\"age\")\n",
    "last_item = student.popitem()\n",
    "student.clear()\n",
    "print(student)"
   ]
  },
  {
   "cell_type": "code",
   "execution_count": 22,
   "id": "38a910a7",
   "metadata": {},
   "outputs": [
    {
     "name": "stdout",
     "output_type": "stream",
     "text": [
      "dict_keys(['name', 'age', 'grade'])\n",
      "dict_values(['Alice', 20, 8.5])\n",
      "dict_items([('name', 'Alice'), ('age', 20), ('grade', 8.5)])\n",
      "4\n"
     ]
    }
   ],
   "source": [
    "# Dictionary methods\n",
    "student = {\"name\": \"Alice\", \"age\": 20, \"grade\": 8.5}\n",
    "print(student.keys())  # dict_keys(['name', 'age', 'grade'])\n",
    "print(student.values())  # dict_values(['Alice', 20, 8.5])\n",
    "print(student.items())  # dict_items([('name', 'Alice'), ('age', 20), ('grade', 8.5)])\n",
    "student.update({\"city\": \"Hanoi\"})\n",
    "print(len(student))  # 4"
   ]
  },
  {
   "cell_type": "code",
   "execution_count": 23,
   "id": "3ca99923",
   "metadata": {},
   "outputs": [
    {
     "name": "stdout",
     "output_type": "stream",
     "text": [
      "name: Alice\n",
      "age: 20\n",
      "grade: 8.5\n"
     ]
    }
   ],
   "source": [
    "# Iterate over keys\n",
    "student = {\"name\": \"Alice\", \"age\": 20, \"grade\": 8.5}\n",
    "for key in student:\n",
    "    print(f\"{key}: {student[key]}\")"
   ]
  },
  {
   "cell_type": "code",
   "execution_count": 24,
   "id": "e9bb1fba",
   "metadata": {},
   "outputs": [
    {
     "name": "stdout",
     "output_type": "stream",
     "text": [
      "Modified dictionary: {'name': 'Bob', 'city': 'Hanoi', 'job': 'Student'}\n"
     ]
    }
   ],
   "source": [
    "# Modify dictionary\n",
    "person = {\"name\": \"Bob\", \"city\": \"Hanoi\", \"age\": 25}\n",
    "person[\"job\"] = \"Student\"\n",
    "person.pop(\"age\")\n",
    "print(f\"Modified dictionary: {person}\")"
   ]
  },
  {
   "cell_type": "code",
   "execution_count": 25,
   "id": "260cde15",
   "metadata": {},
   "outputs": [
    {
     "name": "stdout",
     "output_type": "stream",
     "text": [
      "Average score: 5.0\n"
     ]
    }
   ],
   "source": [
    "# Calculate average score\n",
    "try:\n",
    "    scores = {\n",
    "        \"math\": float(input(\"Enter math score: \")),\n",
    "        \"english\": float(input(\"Enter English score: \")),\n",
    "        \"science\": float(input(\"Enter science score: \"))\n",
    "    }\n",
    "    average = sum(scores.values()) / len(scores)\n",
    "    print(f\"Average score: {average}\")\n",
    "except ValueError:\n",
    "    print(\"Please enter valid numbers!\")"
   ]
  },
  {
   "cell_type": "code",
   "execution_count": 26,
   "id": "b01717bf",
   "metadata": {},
   "outputs": [
    {
     "name": "stdout",
     "output_type": "stream",
     "text": [
      "Word frequency: {'7': 1}\n"
     ]
    }
   ],
   "source": [
    "# Count word frequency\n",
    "text = input(\"Enter text: \").split()\n",
    "word_count = {}\n",
    "for word in text:\n",
    "    word_count[word] = word_count.get(word, 0) + 1\n",
    "print(f\"Word frequency: {word_count}\")"
   ]
  },
  {
   "cell_type": "code",
   "execution_count": 27,
   "id": "26e1d4c7",
   "metadata": {},
   "outputs": [
    {
     "name": "stdout",
     "output_type": "stream",
     "text": [
      "Students with score 5.0: None\n"
     ]
    }
   ],
   "source": [
    "# Find students by score\n",
    "try:\n",
    "    scores = {\n",
    "        \"Alice\": float(input(\"Enter Alice's score: \")),\n",
    "        \"Bob\": float(input(\"Enter Bob's score: \")),\n",
    "        \"Charlie\": float(input(\"Enter Charlie's score: \"))\n",
    "    }\n",
    "    target_score = float(input(\"Enter score to find: \"))\n",
    "    students = [name for name, score in scores.items() if score == target_score]\n",
    "    print(f\"Students with score {target_score}: {students if students else 'None'}\")\n",
    "except ValueError:\n",
    "    print(\"Please enter valid numbers!\")"
   ]
  },
  {
   "cell_type": "code",
   "execution_count": null,
   "id": "85afc22d",
   "metadata": {},
   "outputs": [],
   "source": [
    "# Merge dictionaries\n",
    "try:\n",
    "    dict1 = dict(eval(input(\"Enter first dictionary (e.g., {'key': value, ...}): \")))\n",
    "    dict2 = dict(eval(input(\"Enter second dictionary (e.g., {'key': value, ...}): \")))\n",
    "    result = dict1.copy()\n",
    "    for key, value in dict2.items():\n",
    "        result[key] = result.get(key, 0) + value\n",
    "    print(f\"Merged dictionary: {result}\")\n",
    "except (ValueError, SyntaxError):\n",
    "    print(\"Please enter valid dictionaries!\")"
   ]
  }
 ],
 "metadata": {
  "kernelspec": {
   "display_name": "machine_learning_advanced",
   "language": "python",
   "name": "python3"
  },
  "language_info": {
   "codemirror_mode": {
    "name": "ipython",
    "version": 3
   },
   "file_extension": ".py",
   "mimetype": "text/x-python",
   "name": "python",
   "nbconvert_exporter": "python",
   "pygments_lexer": "ipython3",
   "version": "3.11.13"
  }
 },
 "nbformat": 4,
 "nbformat_minor": 5
}
